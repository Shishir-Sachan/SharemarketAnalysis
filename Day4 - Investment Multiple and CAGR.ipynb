{
 "cells": [
  {
   "cell_type": "markdown",
   "id": "72d06638",
   "metadata": {},
   "source": [
    "### Investment Multiple and CAGR"
   ]
  },
  {
   "cell_type": "code",
   "execution_count": 1,
   "id": "ccc92bd4",
   "metadata": {},
   "outputs": [],
   "source": [
    "# Two alternative reward metrics that are more intuitive and easier to interpret."
   ]
  },
  {
   "cell_type": "code",
   "execution_count": 2,
   "id": "3d214a74",
   "metadata": {},
   "outputs": [],
   "source": [
    "import pandas as pd\n",
    "import numpy as np\n",
    "import matplotlib.pyplot as plt\n",
    "pd.options.display.float_format = '{:.4f}'.format\n",
    "plt.style.use(\"seaborn-v0_8\")"
   ]
  },
  {
   "cell_type": "code",
   "execution_count": 3,
   "id": "52a20e9e",
   "metadata": {},
   "outputs": [
    {
     "data": {
      "text/html": [
       "<div>\n",
       "<style scoped>\n",
       "    .dataframe tbody tr th:only-of-type {\n",
       "        vertical-align: middle;\n",
       "    }\n",
       "\n",
       "    .dataframe tbody tr th {\n",
       "        vertical-align: top;\n",
       "    }\n",
       "\n",
       "    .dataframe thead th {\n",
       "        text-align: right;\n",
       "    }\n",
       "</style>\n",
       "<table border=\"1\" class=\"dataframe\">\n",
       "  <thead>\n",
       "    <tr style=\"text-align: right;\">\n",
       "      <th></th>\n",
       "      <th>Price</th>\n",
       "      <th>Returns</th>\n",
       "    </tr>\n",
       "    <tr>\n",
       "      <th>Date</th>\n",
       "      <th></th>\n",
       "      <th></th>\n",
       "    </tr>\n",
       "  </thead>\n",
       "  <tbody>\n",
       "    <tr>\n",
       "      <th>2014-01-01</th>\n",
       "      <td>202.0000</td>\n",
       "      <td>NaN</td>\n",
       "    </tr>\n",
       "    <tr>\n",
       "      <th>2014-01-02</th>\n",
       "      <td>199.8500</td>\n",
       "      <td>-0.0106</td>\n",
       "    </tr>\n",
       "    <tr>\n",
       "      <th>2014-01-03</th>\n",
       "      <td>199.1500</td>\n",
       "      <td>-0.0035</td>\n",
       "    </tr>\n",
       "    <tr>\n",
       "      <th>2014-01-06</th>\n",
       "      <td>198.9500</td>\n",
       "      <td>-0.0010</td>\n",
       "    </tr>\n",
       "    <tr>\n",
       "      <th>2014-01-07</th>\n",
       "      <td>194.5000</td>\n",
       "      <td>-0.0224</td>\n",
       "    </tr>\n",
       "    <tr>\n",
       "      <th>...</th>\n",
       "      <td>...</td>\n",
       "      <td>...</td>\n",
       "    </tr>\n",
       "    <tr>\n",
       "      <th>2024-01-31</th>\n",
       "      <td>273.8500</td>\n",
       "      <td>0.0285</td>\n",
       "    </tr>\n",
       "    <tr>\n",
       "      <th>2024-02-01</th>\n",
       "      <td>268.5000</td>\n",
       "      <td>-0.0195</td>\n",
       "    </tr>\n",
       "    <tr>\n",
       "      <th>2024-02-02</th>\n",
       "      <td>272.5500</td>\n",
       "      <td>0.0151</td>\n",
       "    </tr>\n",
       "    <tr>\n",
       "      <th>2024-02-05</th>\n",
       "      <td>273.6000</td>\n",
       "      <td>0.0039</td>\n",
       "    </tr>\n",
       "    <tr>\n",
       "      <th>2024-02-06</th>\n",
       "      <td>283.0000</td>\n",
       "      <td>0.0344</td>\n",
       "    </tr>\n",
       "  </tbody>\n",
       "</table>\n",
       "<p>2491 rows × 2 columns</p>\n",
       "</div>"
      ],
      "text/plain": [
       "              Price  Returns\n",
       "Date                        \n",
       "2014-01-01 202.0000      NaN\n",
       "2014-01-02 199.8500  -0.0106\n",
       "2014-01-03 199.1500  -0.0035\n",
       "2014-01-06 198.9500  -0.0010\n",
       "2014-01-07 194.5000  -0.0224\n",
       "...             ...      ...\n",
       "2024-01-31 273.8500   0.0285\n",
       "2024-02-01 268.5000  -0.0195\n",
       "2024-02-02 272.5500   0.0151\n",
       "2024-02-05 273.6000   0.0039\n",
       "2024-02-06 283.0000   0.0344\n",
       "\n",
       "[2491 rows x 2 columns]"
      ]
     },
     "execution_count": 3,
     "metadata": {},
     "output_type": "execute_result"
    }
   ],
   "source": [
    "Ved = pd.read_csv(\"Ved.csv\", index_col = \"Date\", parse_dates = [\"Date\"])\n",
    "Ved"
   ]
  },
  {
   "cell_type": "code",
   "execution_count": 4,
   "id": "551f0fbf",
   "metadata": {},
   "outputs": [],
   "source": [
    "# Investment Multiple: Ending Value of 1 [Dollar] invested.\n",
    "# Multiple = Ending Value / Intial Investment"
   ]
  },
  {
   "cell_type": "code",
   "execution_count": 9,
   "id": "029d9883",
   "metadata": {},
   "outputs": [
    {
     "data": {
      "text/plain": [
       "202.0"
      ]
     },
     "execution_count": 9,
     "metadata": {},
     "output_type": "execute_result"
    }
   ],
   "source": [
    "# Ved.Price[-1]\n",
    "Ved.Price[0]"
   ]
  },
  {
   "cell_type": "code",
   "execution_count": 5,
   "id": "7545a5cc",
   "metadata": {},
   "outputs": [
    {
     "data": {
      "text/plain": [
       "1.400990099009901"
      ]
     },
     "execution_count": 5,
     "metadata": {},
     "output_type": "execute_result"
    }
   ],
   "source": [
    "multiple = (Ved.Price[-1] / Ved.Price[0])\n",
    "multiple "
   ]
  },
  {
   "cell_type": "markdown",
   "id": "bec74f49",
   "metadata": {},
   "source": [
    "Price Increase (in %)"
   ]
  },
  {
   "cell_type": "code",
   "execution_count": 6,
   "id": "d068f982",
   "metadata": {},
   "outputs": [
    {
     "data": {
      "text/plain": [
       "40.09900990099009"
      ]
     },
     "execution_count": 6,
     "metadata": {},
     "output_type": "execute_result"
    }
   ],
   "source": [
    "(multiple - 1) * 100"
   ]
  },
  {
   "cell_type": "code",
   "execution_count": 7,
   "id": "82d7b8e9",
   "metadata": {},
   "outputs": [
    {
     "data": {
      "text/plain": [
       "Date\n",
       "2014-01-01   1.0000\n",
       "2014-01-02   0.9894\n",
       "2014-01-03   0.9859\n",
       "2014-01-06   0.9849\n",
       "2014-01-07   0.9629\n",
       "              ...  \n",
       "2024-01-31   1.3557\n",
       "2024-02-01   1.3292\n",
       "2024-02-02   1.3493\n",
       "2024-02-05   1.3545\n",
       "2024-02-06   1.4010\n",
       "Name: Price, Length: 2491, dtype: float64"
      ]
     },
     "execution_count": 7,
     "metadata": {},
     "output_type": "execute_result"
    }
   ],
   "source": [
    "Ved.Price / Ved.Price[0] # similar/identical concept: Normalized Price with Base Value 1"
   ]
  },
  {
   "cell_type": "markdown",
   "id": "b6bc5576",
   "metadata": {},
   "source": [
    "### Drawback of `investment multiple`: Doesn't take into account investment period: meaningful only in conjuction with investment period."
   ]
  },
  {
   "cell_type": "markdown",
   "id": "b3134314",
   "metadata": {},
   "source": [
    "### `Compound Annual Growth Rate(CAGR):` The (constant annual) rate of return that would be required for an investment to grow from its beginning balance to its ending balance to its ending balance, assuming the profits were reinvested at the end of each year of the investment lifespan(Wikipedia)"
   ]
  },
  {
   "cell_type": "code",
   "execution_count": 11,
   "id": "480ddfe5",
   "metadata": {},
   "outputs": [
    {
     "data": {
      "text/plain": [
       "Timestamp('2014-01-01 00:00:00')"
      ]
     },
     "execution_count": 11,
     "metadata": {},
     "output_type": "execute_result"
    }
   ],
   "source": [
    "start = Ved.index[0]\n",
    "start"
   ]
  },
  {
   "cell_type": "code",
   "execution_count": 12,
   "id": "8ea89ef0",
   "metadata": {},
   "outputs": [
    {
     "data": {
      "text/plain": [
       "Timestamp('2024-02-06 00:00:00')"
      ]
     },
     "execution_count": 12,
     "metadata": {},
     "output_type": "execute_result"
    }
   ],
   "source": [
    "end = Ved.index[-1]\n",
    "end"
   ]
  },
  {
   "cell_type": "code",
   "execution_count": 14,
   "id": "5766451b",
   "metadata": {},
   "outputs": [
    {
     "data": {
      "text/plain": [
       "Timedelta('3688 days 00:00:00')"
      ]
     },
     "execution_count": 14,
     "metadata": {},
     "output_type": "execute_result"
    }
   ],
   "source": [
    "td = end - start\n",
    "td"
   ]
  },
  {
   "cell_type": "code",
   "execution_count": 17,
   "id": "3c9b3826",
   "metadata": {},
   "outputs": [
    {
     "data": {
      "text/plain": [
       "3688"
      ]
     },
     "execution_count": 17,
     "metadata": {},
     "output_type": "execute_result"
    }
   ],
   "source": [
    "td.days"
   ]
  },
  {
   "cell_type": "code",
   "execution_count": 15,
   "id": "fbd49119",
   "metadata": {},
   "outputs": [
    {
     "data": {
      "text/plain": [
       "10.097193702943189"
      ]
     },
     "execution_count": 15,
     "metadata": {},
     "output_type": "execute_result"
    }
   ],
   "source": [
    "td_years = td.days / 365.25\n",
    "td_years"
   ]
  },
  {
   "cell_type": "code",
   "execution_count": 18,
   "id": "56537dc0",
   "metadata": {},
   "outputs": [
    {
     "data": {
      "text/plain": [
       "0.03395717418883715"
      ]
     },
     "execution_count": 18,
     "metadata": {},
     "output_type": "execute_result"
    }
   ],
   "source": [
    "cagr = multiple**(1 / td_years) - 1 # short version\n",
    "cagr #Compound Annual Growth Rate"
   ]
  },
  {
   "cell_type": "code",
   "execution_count": 21,
   "id": "e58c84a6",
   "metadata": {},
   "outputs": [
    {
     "data": {
      "text/plain": [
       "0.03395717418883715"
      ]
     },
     "execution_count": 21,
     "metadata": {},
     "output_type": "execute_result"
    }
   ],
   "source": [
    "cagr = (Ved.Price[-1]/Ved.Price[0])**(1/((Ved.index[-1] - Ved.index[0]).days / 365.25)) - 1 #long\n",
    "cagr"
   ]
  },
  {
   "cell_type": "code",
   "execution_count": 22,
   "id": "5807b605",
   "metadata": {},
   "outputs": [
    {
     "data": {
      "text/plain": [
       "1.4009900990099011"
      ]
     },
     "execution_count": 22,
     "metadata": {},
     "output_type": "execute_result"
    }
   ],
   "source": [
    "(1 + cagr)**(td_years) # alternative #2 to calculate multiple (cagr)"
   ]
  },
  {
   "cell_type": "code",
   "execution_count": 23,
   "id": "9fc480a2",
   "metadata": {},
   "outputs": [],
   "source": [
    "# >> CAGR can be used to compare investments with different investment horizons."
   ]
  },
  {
   "cell_type": "code",
   "execution_count": null,
   "id": "f83df6f7",
   "metadata": {},
   "outputs": [],
   "source": []
  }
 ],
 "metadata": {
  "kernelspec": {
   "display_name": "Python 3 (ipykernel)",
   "language": "python",
   "name": "python3"
  },
  "language_info": {
   "codemirror_mode": {
    "name": "ipython",
    "version": 3
   },
   "file_extension": ".py",
   "mimetype": "text/x-python",
   "name": "python",
   "nbconvert_exporter": "python",
   "pygments_lexer": "ipython3",
   "version": "3.11.5"
  }
 },
 "nbformat": 4,
 "nbformat_minor": 5
}
