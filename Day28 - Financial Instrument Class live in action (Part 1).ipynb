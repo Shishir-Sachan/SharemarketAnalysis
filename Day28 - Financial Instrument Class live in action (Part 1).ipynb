{
 "cells": [
  {
   "cell_type": "markdown",
   "id": "30f079d0",
   "metadata": {},
   "source": [
    "## Financial Instrument Class live in action (Part 1)\n",
    "Goal: Analyzing Financial Instruments (e.g stocks) efficiently"
   ]
  },
  {
   "cell_type": "code",
   "execution_count": 2,
   "id": "620fefeb",
   "metadata": {},
   "outputs": [],
   "source": [
    "import pandas as pd\n",
    "import numpy as np\n",
    "import matplotlib.pyplot as plt\n",
    "import yfinance as yf\n",
    "plt.style.use(\"seaborn-v0_8\")"
   ]
  },
  {
   "cell_type": "code",
   "execution_count": 4,
   "id": "8403be88",
   "metadata": {},
   "outputs": [],
   "source": [
    "class FinancialInstrument():\n",
    "    ''' Class for analyzing Financial Instruments like stocks\n",
    "    \n",
    "    Attributes\n",
    "    ==========\n",
    "    ticker: str\n",
    "        ticker symbol with which to work with\n",
    "    start: str\n",
    "        start date for data retrieval\n",
    "    end: str\n",
    "        end date for data retrieval\n",
    "        \n",
    "    Methods\n",
    "    =======\n",
    "    get_data:\n",
    "        retrieves daily price data (from yahoo finance) and prepares the data\n",
    "    plot_prices:\n",
    "        create a price chart\n",
    "    log_returns:\n",
    "        calculates log returns\n",
    "    plot_returns:\n",
    "        plots log returns either as time series (\"ts\") or histogram(\"hist\")\n",
    "    set_ticker:\n",
    "        set a new ticker\n",
    "    mean_return:\n",
    "        calculates mean return\n",
    "    std_returns:\n",
    "        calculates the standard deviation of returns (risk)\n",
    "    annualized_perf:\n",
    "        calculates_annulized return and risk\n",
    "    '''"
   ]
  },
  {
   "cell_type": "code",
   "execution_count": null,
   "id": "4322ddc1",
   "metadata": {},
   "outputs": [],
   "source": [
    "stock = FinancialInstrument(ticker = \"AAPL\", start = \"2015-01-01\", end = \"2019-12-31\") # Instantiation"
   ]
  },
  {
   "cell_type": "code",
   "execution_count": null,
   "id": "6b45bffc",
   "metadata": {},
   "outputs": [],
   "source": [
    "stock"
   ]
  },
  {
   "cell_type": "code",
   "execution_count": null,
   "id": "c1c4750f",
   "metadata": {},
   "outputs": [],
   "source": [
    "type(stock)"
   ]
  },
  {
   "cell_type": "markdown",
   "id": "cef9b86e",
   "metadata": {},
   "source": [
    "### Methods"
   ]
  },
  {
   "cell_type": "code",
   "execution_count": null,
   "id": "36071fdc",
   "metadata": {},
   "outputs": [],
   "source": [
    "stock.plot_prices()"
   ]
  },
  {
   "cell_type": "code",
   "execution_count": null,
   "id": "9d402128",
   "metadata": {},
   "outputs": [],
   "source": [
    "stock.plot_returns()"
   ]
  },
  {
   "cell_type": "code",
   "execution_count": null,
   "id": "d7a5bd51",
   "metadata": {},
   "outputs": [],
   "source": [
    "stock.plot_returns(kind = \"hist\")"
   ]
  },
  {
   "cell_type": "markdown",
   "id": "651afb44",
   "metadata": {},
   "source": [
    "## Financial Instrument Class live in action (Part 2)"
   ]
  },
  {
   "cell_type": "code",
   "execution_count": null,
   "id": "ca8e3a77",
   "metadata": {},
   "outputs": [],
   "source": []
  },
  {
   "cell_type": "code",
   "execution_count": null,
   "id": "c88d9f4a",
   "metadata": {},
   "outputs": [],
   "source": []
  }
 ],
 "metadata": {
  "kernelspec": {
   "display_name": "Python 3 (ipykernel)",
   "language": "python",
   "name": "python3"
  },
  "language_info": {
   "codemirror_mode": {
    "name": "ipython",
    "version": 3
   },
   "file_extension": ".py",
   "mimetype": "text/x-python",
   "name": "python",
   "nbconvert_exporter": "python",
   "pygments_lexer": "ipython3",
   "version": "3.11.5"
  }
 },
 "nbformat": 4,
 "nbformat_minor": 5
}
