{
 "cells": [
  {
   "cell_type": "markdown",
   "id": "c34dedca",
   "metadata": {},
   "source": [
    "# 1.Simple Moving Averages\n",
    "# 2.Exponential Moving Averages(EMA)\n",
    "# 3.Bollinger Bands\n",
    "# 4.Relative Strength Index (RSI)\n",
    "# 5.Stochastic Oscillator\n",
    "# 6.Moving Average Convergence Divergence (MACD)"
   ]
  },
  {
   "cell_type": "code",
   "execution_count": 1,
   "id": "e8b4ea3e",
   "metadata": {},
   "outputs": [
    {
     "name": "stdout",
     "output_type": "stream",
     "text": [
      "Current Price: 182.52000427246094\n",
      "Historical Prices:\n",
      "Date\n",
      "2023-01-03 00:00:00-05:00    124.216301\n",
      "2023-01-04 00:00:00-05:00    125.497505\n",
      "2023-01-05 00:00:00-05:00    124.166641\n",
      "2023-01-06 00:00:00-05:00    128.735229\n",
      "2023-01-09 00:00:00-05:00    129.261642\n",
      "                                ...    \n",
      "2023-12-22 00:00:00-05:00    193.353287\n",
      "2023-12-26 00:00:00-05:00    192.803986\n",
      "2023-12-27 00:00:00-05:00    192.903839\n",
      "2023-12-28 00:00:00-05:00    193.333298\n",
      "2023-12-29 00:00:00-05:00    192.284637\n",
      "Name: Close, Length: 250, dtype: float64\n",
      "Dividends:\n",
      "Date\n",
      "2023-02-10 00:00:00-05:00    0.23\n",
      "2023-05-12 00:00:00-04:00    0.24\n",
      "2023-08-11 00:00:00-04:00    0.24\n",
      "2023-11-10 00:00:00-05:00    0.24\n",
      "Name: Dividends, dtype: float64\n",
      "General Info:\n",
      "{'address1': 'One Apple Park Way', 'city': 'Cupertino', 'state': 'CA', 'zip': '95014', 'country': 'United States', 'phone': '408 996 1010', 'website': 'https://www.apple.com', 'industry': 'Consumer Electronics', 'industryKey': 'consumer-electronics', 'industryDisp': 'Consumer Electronics', 'sector': 'Technology', 'sectorKey': 'technology', 'sectorDisp': 'Technology', 'longBusinessSummary': 'Apple Inc. designs, manufactures, and markets smartphones, personal computers, tablets, wearables, and accessories worldwide. The company offers iPhone, a line of smartphones; Mac, a line of personal computers; iPad, a line of multi-purpose tablets; and wearables, home, and accessories comprising AirPods, Apple TV, Apple Watch, Beats products, and HomePod. It also provides AppleCare support and cloud services; and operates various platforms, including the App Store that allow customers to discover and download applications and digital content, such as books, music, video, games, and podcasts. In addition, the company offers various services, such as Apple Arcade, a game subscription service; Apple Fitness+, a personalized fitness service; Apple Music, which offers users a curated listening experience with on-demand radio stations; Apple News+, a subscription news and magazine service; Apple TV+, which offers exclusive original content; Apple Card, a co-branded credit card; and Apple Pay, a cashless payment service, as well as licenses its intellectual property. The company serves consumers, and small and mid-sized businesses; and the education, enterprise, and government markets. It distributes third-party applications for its products through the App Store. The company also sells its products through its retail and online stores, and direct sales force; and third-party cellular network carriers, wholesalers, retailers, and resellers. Apple Inc. was founded in 1976 and is headquartered in Cupertino, California.', 'fullTimeEmployees': 161000, 'companyOfficers': [{'maxAge': 1, 'name': 'Mr. Timothy D. Cook', 'age': 62, 'title': 'CEO & Director', 'yearBorn': 1961, 'fiscalYear': 2023, 'totalPay': 16239562, 'exercisedValue': 0, 'unexercisedValue': 0}, {'maxAge': 1, 'name': 'Mr. Luca  Maestri', 'age': 60, 'title': 'CFO & Senior VP', 'yearBorn': 1963, 'fiscalYear': 2023, 'totalPay': 4612242, 'exercisedValue': 0, 'unexercisedValue': 0}, {'maxAge': 1, 'name': 'Mr. Jeffrey E. Williams', 'age': 59, 'title': 'Chief Operating Officer', 'yearBorn': 1964, 'fiscalYear': 2023, 'totalPay': 4637585, 'exercisedValue': 0, 'unexercisedValue': 0}, {'maxAge': 1, 'name': 'Ms. Katherine L. Adams', 'age': 59, 'title': 'Senior VP, General Counsel & Secretary', 'yearBorn': 1964, 'fiscalYear': 2023, 'totalPay': 4618064, 'exercisedValue': 0, 'unexercisedValue': 0}, {'maxAge': 1, 'name': \"Ms. Deirdre  O'Brien\", 'age': 56, 'title': 'Senior Vice President of Retail', 'yearBorn': 1967, 'fiscalYear': 2023, 'totalPay': 4613369, 'exercisedValue': 0, 'unexercisedValue': 0}, {'maxAge': 1, 'name': 'Mr. Chris  Kondo', 'title': 'Senior Director of Corporate Accounting', 'fiscalYear': 2023, 'exercisedValue': 0, 'unexercisedValue': 0}, {'maxAge': 1, 'name': 'Mr. James  Wilson', 'title': 'Chief Technology Officer', 'fiscalYear': 2023, 'exercisedValue': 0, 'unexercisedValue': 0}, {'maxAge': 1, 'name': 'Suhasini  Chandramouli', 'title': 'Director of Investor Relations', 'fiscalYear': 2023, 'exercisedValue': 0, 'unexercisedValue': 0}, {'maxAge': 1, 'name': 'Mr. Greg  Joswiak', 'title': 'Senior Vice President of Worldwide Marketing', 'fiscalYear': 2023, 'exercisedValue': 0, 'unexercisedValue': 0}, {'maxAge': 1, 'name': 'Mr. Adrian  Perica', 'age': 49, 'title': 'Head of Corporate Development', 'yearBorn': 1974, 'fiscalYear': 2023, 'exercisedValue': 0, 'unexercisedValue': 0}], 'auditRisk': 4, 'boardRisk': 1, 'compensationRisk': 6, 'shareHolderRightsRisk': 1, 'overallRisk': 1, 'governanceEpochDate': 1706745600, 'compensationAsOfEpochDate': 1703980800, 'maxAge': 86400, 'priceHint': 2, 'previousClose': 184.37, 'open': 185.01, 'dayLow': 182.31, 'dayHigh': 185.02, 'regularMarketPreviousClose': 184.37, 'regularMarketOpen': 185.01, 'regularMarketDayLow': 182.31, 'regularMarketDayHigh': 185.02, 'dividendRate': 0.96, 'dividendYield': 0.0053, 'exDividendDate': 1707436800, 'payoutRatio': 0.14770001, 'fiveYearAvgDividendYield': 0.78, 'beta': 1.312, 'trailingPE': 28.429907, 'forwardPE': 25.456068, 'volume': 43669467, 'regularMarketVolume': 43669467, 'averageVolume': 54123437, 'averageVolume10days': 50579500, 'averageDailyVolume10Day': 50579500, 'bid': 182.32, 'ask': 182.28, 'bidSize': 900, 'askSize': 1100, 'marketCap': 2818455633920, 'fiftyTwoWeekLow': 143.9, 'fiftyTwoWeekHigh': 199.62, 'priceToSalesTrailing12Months': 7.3072643, 'fiftyDayAverage': 188.9672, 'twoHundredDayAverage': 183.73265, 'trailingAnnualDividendRate': 0.95, 'trailingAnnualDividendYield': 0.0051526823, 'currency': 'USD', 'enterpriseValue': 2853392089088, 'profitMargins': 0.26163, 'floatShares': 15414703289, 'sharesOutstanding': 15441899520, 'sharesShort': 99244672, 'sharesShortPriorMonth': 108220157, 'sharesShortPreviousMonthDate': 1703808000, 'dateShortInterest': 1706659200, 'sharesPercentSharesOut': 0.0064, 'heldPercentInsiders': 0.059369996, 'heldPercentInstitutions': 0.56676996, 'shortRatio': 1.76, 'shortPercentOfFloat': 0.0064, 'impliedSharesOutstanding': 15770500096, 'bookValue': 4.793, 'priceToBook': 38.080532, 'lastFiscalYearEnd': 1696032000, 'nextFiscalYearEnd': 1727654400, 'mostRecentQuarter': 1703894400, 'earningsQuarterlyGrowth': 0.131, 'netIncomeToCommon': 100912996352, 'trailingEps': 6.42, 'forwardEps': 7.17, 'pegRatio': 2.56, 'lastSplitFactor': '4:1', 'lastSplitDate': 1598832000, 'enterpriseToRevenue': 7.398, 'enterpriseToEbitda': 21.931, '52WeekChange': 0.2339102, 'SandP52WeekChange': 0.27787375, 'lastDividendValue': 0.24, 'lastDividendDate': 1707436800, 'exchange': 'NMS', 'quoteType': 'EQUITY', 'symbol': 'AAPL', 'underlyingSymbol': 'AAPL', 'shortName': 'Apple Inc.', 'longName': 'Apple Inc.', 'firstTradeDateEpochUtc': 345479400, 'timeZoneFullName': 'America/New_York', 'timeZoneShortName': 'EST', 'uuid': '8b10e4ae-9eeb-3684-921a-9ab27e4d87aa', 'messageBoardId': 'finmb_24937', 'gmtOffSetMilliseconds': -18000000, 'currentPrice': 182.52, 'targetHighPrice': 250.0, 'targetLowPrice': 158.0, 'targetMeanPrice': 201.41, 'targetMedianPrice': 200.0, 'recommendationMean': 2.2, 'recommendationKey': 'buy', 'numberOfAnalystOpinions': 39, 'totalCash': 73100001280, 'totalCashPerShare': 4.734, 'ebitda': 130108997632, 'totalDebt': 108040003584, 'quickRatio': 0.92, 'currentRatio': 1.073, 'totalRevenue': 385706000384, 'debtToEquity': 145.803, 'revenuePerShare': 24.648, 'returnOnAssets': 0.21181, 'returnOnEquity': 1.5426899, 'freeCashflow': 86563127296, 'operatingCashflow': 116433002496, 'earningsGrowth': 0.16, 'revenueGrowth': 0.021, 'grossMargins': 0.45027, 'ebitdaMargins': 0.33733, 'operatingMargins': 0.33764, 'financialCurrency': 'USD', 'trailingPegRatio': 2.2467}\n",
      "Recommendations:\n",
      "  period  strongBuy  buy  hold  sell  strongSell\n",
      "0     0m         11   21     6     0           0\n",
      "1    -1m         10   17    12     2           0\n",
      "2    -2m         10   20    12     1           0\n",
      "3    -3m         10   24     7     1           0\n"
     ]
    }
   ],
   "source": [
    "import yfinance as yf\n",
    "\n",
    "class YahooFinanceTrader:\n",
    "    def __init__(self, symbol):\n",
    "        self.symbol = symbol\n",
    "        self.stock = yf.Ticker(symbol)\n",
    "    \n",
    "    def get_current_price(self):\n",
    "        # Get current price of the stock\n",
    "        return self.stock.history(period='1d')['Close'][0]\n",
    "    \n",
    "    def get_historical_prices(self, start_date, end_date):\n",
    "        # Get historical prices of the stock\n",
    "        return self.stock.history(start=start_date, end=end_date)['Close']\n",
    "    \n",
    "    def get_dividends(self):\n",
    "        # Get dividends of the stock\n",
    "        return self.stock.dividends\n",
    "    \n",
    "    def get_info(self):\n",
    "        # Get general information about the stock\n",
    "        return self.stock.info\n",
    "    \n",
    "    def get_recommendations(self):\n",
    "        # Get analyst recommendations for the stock\n",
    "        return self.stock.recommendations\n",
    "    \n",
    "    # Add more methods as needed for your trading strategy\n",
    "    # For example, methods to place orders, check account balance, etc.\n",
    "\n",
    "# Example usage:\n",
    "if __name__ == \"__main__\":\n",
    "    trader = YahooFinanceTrader('AAPL')\n",
    "    print(\"Current Price:\", trader.get_current_price())\n",
    "    print(\"Historical Prices:\")\n",
    "    print(trader.get_historical_prices(start_date='2023-01-01', end_date='2023-12-31'))\n",
    "    print(\"Dividends:\")\n",
    "    print(trader.get_dividends())\n",
    "    print(\"General Info:\")\n",
    "    print(trader.get_info())\n",
    "    print(\"Recommendations:\")\n",
    "    print(trader.get_recommendations())"
   ]
  },
  {
   "cell_type": "code",
   "execution_count": 2,
   "id": "87700a91",
   "metadata": {},
   "outputs": [],
   "source": [
    "################################################################"
   ]
  },
  {
   "cell_type": "markdown",
   "id": "6e61dadc",
   "metadata": {},
   "source": [
    "Suppose we have the following daily closing prices of a stock for the last 7 days:\n",
    "\n",
    "\n",
    "Day 1 - $10\n",
    "\n",
    "Day 2 - $12\n",
    "\n",
    "Day 3 - $11\n",
    "\n",
    "Day 4 - $15\n",
    "\n",
    "Day 5 - $14\n",
    "\n",
    "Day 6 - $13\n",
    "\n",
    "Day 7 - $16\n",
    "\n",
    "__We want to calculate the 3-day Simple Moving Average (SMA).__\n",
    "\n",
    "Initial Calculation: Since we need at least 3 days of data to calculate the 3-day SMA, the first 3 days won't have an SMA value.\n",
    "\n",
    "Day 4 SMA Calculation:\n",
    "\n",
    "(Day 1 + Day 2 + Day 3) / 3 = ($10 + $12 + $11) / 3 = $11\n",
    "So, the SMA for Day 4 is $11.\n",
    "Day 5 SMA Calculation:\n",
    "\n",
    "(Day 2 + Day 3 + Day 4) / 3 = ($12 + $11 + $15) / 3 = $12.67 (rounded to two decimal places)\n",
    "So, the SMA for Day 5 is $12.67.\n",
    "Day 6 SMA Calculation:\n",
    "\n",
    "(Day 3 + Day 4 + Day 5) / 3 = ($11 + $15 + $14) / 3 = $13.33 (rounded to two decimal places)\n",
    "So, the SMA for Day 6 is $13.33.\n",
    "Day 7 SMA Calculation:\n",
    "\n",
    "(Day 4 + Day 5 + Day 6) / 3 = ($15 + $14 + $13) / 3 = $14\n",
    "So, the SMA for Day 7 is $14.\n",
    "After calculating the SMA for each day, we'll have the following SMA values:\n",
    "This SMA series can be used for further analysis in trading, such as identifying trends or potential buy/sell signals."
   ]
  },
  {
   "cell_type": "markdown",
   "id": "74b23109",
   "metadata": {},
   "source": [
    "# Simple Moving Average (WMA)\n",
    "# Weighted Moving Average (WMA)\n",
    "# Exponential Moving Average (EMA)"
   ]
  },
  {
   "cell_type": "code",
   "execution_count": null,
   "id": "f7aa0a19",
   "metadata": {},
   "outputs": [],
   "source": []
  }
 ],
 "metadata": {
  "kernelspec": {
   "display_name": "Python 3 (ipykernel)",
   "language": "python",
   "name": "python3"
  },
  "language_info": {
   "codemirror_mode": {
    "name": "ipython",
    "version": 3
   },
   "file_extension": ".py",
   "mimetype": "text/x-python",
   "name": "python",
   "nbconvert_exporter": "python",
   "pygments_lexer": "ipython3",
   "version": "3.11.5"
  }
 },
 "nbformat": 4,
 "nbformat_minor": 5
}
