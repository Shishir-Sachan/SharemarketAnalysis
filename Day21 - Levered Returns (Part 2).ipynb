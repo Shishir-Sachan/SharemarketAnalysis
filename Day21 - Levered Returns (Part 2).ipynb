{
 "cells": [
  {
   "cell_type": "markdown",
   "id": "4b80980a",
   "metadata": {},
   "source": [
    "## Levered Returns (Part 2)\n",
    "\n",
    "##### Hypothesis: For (highly) profitable investment: the more leverage, the better?"
   ]
  },
  {
   "cell_type": "code",
   "execution_count": 1,
   "id": "60999ca5",
   "metadata": {},
   "outputs": [],
   "source": [
    "import pandas as pd\n",
    "import numpy as np\n",
    "import matplotlib.pyplot as plt\n",
    "pd.options.display.float_format = '{:.6f}'.format\n",
    "plt.style.use(\"seaborn-v0_8\")"
   ]
  },
  {
   "cell_type": "code",
   "execution_count": 2,
   "id": "da8213f6",
   "metadata": {},
   "outputs": [
    {
     "data": {
      "text/html": [
       "<div>\n",
       "<style scoped>\n",
       "    .dataframe tbody tr th:only-of-type {\n",
       "        vertical-align: middle;\n",
       "    }\n",
       "\n",
       "    .dataframe tbody tr th {\n",
       "        vertical-align: top;\n",
       "    }\n",
       "\n",
       "    .dataframe thead th {\n",
       "        text-align: right;\n",
       "    }\n",
       "</style>\n",
       "<table border=\"1\" class=\"dataframe\">\n",
       "  <thead>\n",
       "    <tr style=\"text-align: right;\">\n",
       "      <th></th>\n",
       "      <th>Price</th>\n",
       "      <th>Returns</th>\n",
       "    </tr>\n",
       "    <tr>\n",
       "      <th>Date</th>\n",
       "      <th></th>\n",
       "      <th></th>\n",
       "    </tr>\n",
       "  </thead>\n",
       "  <tbody>\n",
       "    <tr>\n",
       "      <th>2014-01-01</th>\n",
       "      <td>202.000000</td>\n",
       "      <td>NaN</td>\n",
       "    </tr>\n",
       "    <tr>\n",
       "      <th>2014-01-02</th>\n",
       "      <td>199.850006</td>\n",
       "      <td>-0.010644</td>\n",
       "    </tr>\n",
       "    <tr>\n",
       "      <th>2014-01-03</th>\n",
       "      <td>199.149994</td>\n",
       "      <td>-0.003503</td>\n",
       "    </tr>\n",
       "    <tr>\n",
       "      <th>2014-01-06</th>\n",
       "      <td>198.949997</td>\n",
       "      <td>-0.001004</td>\n",
       "    </tr>\n",
       "    <tr>\n",
       "      <th>2014-01-07</th>\n",
       "      <td>194.500000</td>\n",
       "      <td>-0.022367</td>\n",
       "    </tr>\n",
       "    <tr>\n",
       "      <th>...</th>\n",
       "      <td>...</td>\n",
       "      <td>...</td>\n",
       "    </tr>\n",
       "    <tr>\n",
       "      <th>2024-01-31</th>\n",
       "      <td>273.850006</td>\n",
       "      <td>0.028545</td>\n",
       "    </tr>\n",
       "    <tr>\n",
       "      <th>2024-02-01</th>\n",
       "      <td>268.500000</td>\n",
       "      <td>-0.019536</td>\n",
       "    </tr>\n",
       "    <tr>\n",
       "      <th>2024-02-02</th>\n",
       "      <td>272.549988</td>\n",
       "      <td>0.015084</td>\n",
       "    </tr>\n",
       "    <tr>\n",
       "      <th>2024-02-05</th>\n",
       "      <td>273.600006</td>\n",
       "      <td>0.003853</td>\n",
       "    </tr>\n",
       "    <tr>\n",
       "      <th>2024-02-06</th>\n",
       "      <td>283.000000</td>\n",
       "      <td>0.034357</td>\n",
       "    </tr>\n",
       "  </tbody>\n",
       "</table>\n",
       "<p>2491 rows × 2 columns</p>\n",
       "</div>"
      ],
      "text/plain": [
       "                Price   Returns\n",
       "Date                           \n",
       "2014-01-01 202.000000       NaN\n",
       "2014-01-02 199.850006 -0.010644\n",
       "2014-01-03 199.149994 -0.003503\n",
       "2014-01-06 198.949997 -0.001004\n",
       "2014-01-07 194.500000 -0.022367\n",
       "...               ...       ...\n",
       "2024-01-31 273.850006  0.028545\n",
       "2024-02-01 268.500000 -0.019536\n",
       "2024-02-02 272.549988  0.015084\n",
       "2024-02-05 273.600006  0.003853\n",
       "2024-02-06 283.000000  0.034357\n",
       "\n",
       "[2491 rows x 2 columns]"
      ]
     },
     "execution_count": 2,
     "metadata": {},
     "output_type": "execute_result"
    }
   ],
   "source": [
    "Ved = pd.read_csv(\"Ved.csv\", index_col = \"Date\", parse_dates=[\"Date\"])\n",
    "Ved"
   ]
  },
  {
   "cell_type": "code",
   "execution_count": 3,
   "id": "f2d1d27f",
   "metadata": {},
   "outputs": [],
   "source": [
    "Ved[\"Simple_Ret\"] = Ved.Price.pct_change() #simple returns"
   ]
  },
  {
   "cell_type": "code",
   "execution_count": 4,
   "id": "601df0f0",
   "metadata": {},
   "outputs": [],
   "source": [
    "leverage = 2\n",
    "#leverage = 7"
   ]
  },
  {
   "cell_type": "markdown",
   "id": "c7d4093c",
   "metadata": {},
   "source": [
    "### (Simplified) Assumptions:\n",
    "\n",
    "    . Restore leverage on a daily basis (by buying/selling shares)\n",
    "    . no trading costs\n",
    "    . no borrowing costs"
   ]
  },
  {
   "cell_type": "code",
   "execution_count": 5,
   "id": "a28c242c",
   "metadata": {},
   "outputs": [
    {
     "data": {
      "text/html": [
       "<div>\n",
       "<style scoped>\n",
       "    .dataframe tbody tr th:only-of-type {\n",
       "        vertical-align: middle;\n",
       "    }\n",
       "\n",
       "    .dataframe tbody tr th {\n",
       "        vertical-align: top;\n",
       "    }\n",
       "\n",
       "    .dataframe thead th {\n",
       "        text-align: right;\n",
       "    }\n",
       "</style>\n",
       "<table border=\"1\" class=\"dataframe\">\n",
       "  <thead>\n",
       "    <tr style=\"text-align: right;\">\n",
       "      <th></th>\n",
       "      <th>Price</th>\n",
       "      <th>Returns</th>\n",
       "      <th>Simple_Ret</th>\n",
       "      <th>Lev_Returns</th>\n",
       "    </tr>\n",
       "    <tr>\n",
       "      <th>Date</th>\n",
       "      <th></th>\n",
       "      <th></th>\n",
       "      <th></th>\n",
       "      <th></th>\n",
       "    </tr>\n",
       "  </thead>\n",
       "  <tbody>\n",
       "    <tr>\n",
       "      <th>2014-01-01</th>\n",
       "      <td>202.000000</td>\n",
       "      <td>NaN</td>\n",
       "      <td>NaN</td>\n",
       "      <td>NaN</td>\n",
       "    </tr>\n",
       "    <tr>\n",
       "      <th>2014-01-02</th>\n",
       "      <td>199.850006</td>\n",
       "      <td>-0.010644</td>\n",
       "      <td>-0.010644</td>\n",
       "      <td>-0.021287</td>\n",
       "    </tr>\n",
       "    <tr>\n",
       "      <th>2014-01-03</th>\n",
       "      <td>199.149994</td>\n",
       "      <td>-0.003503</td>\n",
       "      <td>-0.003503</td>\n",
       "      <td>-0.007005</td>\n",
       "    </tr>\n",
       "    <tr>\n",
       "      <th>2014-01-06</th>\n",
       "      <td>198.949997</td>\n",
       "      <td>-0.001004</td>\n",
       "      <td>-0.001004</td>\n",
       "      <td>-0.002009</td>\n",
       "    </tr>\n",
       "    <tr>\n",
       "      <th>2014-01-07</th>\n",
       "      <td>194.500000</td>\n",
       "      <td>-0.022367</td>\n",
       "      <td>-0.022367</td>\n",
       "      <td>-0.044735</td>\n",
       "    </tr>\n",
       "    <tr>\n",
       "      <th>...</th>\n",
       "      <td>...</td>\n",
       "      <td>...</td>\n",
       "      <td>...</td>\n",
       "      <td>...</td>\n",
       "    </tr>\n",
       "    <tr>\n",
       "      <th>2024-01-31</th>\n",
       "      <td>273.850006</td>\n",
       "      <td>0.028545</td>\n",
       "      <td>0.028545</td>\n",
       "      <td>0.057089</td>\n",
       "    </tr>\n",
       "    <tr>\n",
       "      <th>2024-02-01</th>\n",
       "      <td>268.500000</td>\n",
       "      <td>-0.019536</td>\n",
       "      <td>-0.019536</td>\n",
       "      <td>-0.039073</td>\n",
       "    </tr>\n",
       "    <tr>\n",
       "      <th>2024-02-02</th>\n",
       "      <td>272.549988</td>\n",
       "      <td>0.015084</td>\n",
       "      <td>0.015084</td>\n",
       "      <td>0.030168</td>\n",
       "    </tr>\n",
       "    <tr>\n",
       "      <th>2024-02-05</th>\n",
       "      <td>273.600006</td>\n",
       "      <td>0.003853</td>\n",
       "      <td>0.003853</td>\n",
       "      <td>0.007705</td>\n",
       "    </tr>\n",
       "    <tr>\n",
       "      <th>2024-02-06</th>\n",
       "      <td>283.000000</td>\n",
       "      <td>0.034357</td>\n",
       "      <td>0.034357</td>\n",
       "      <td>0.068713</td>\n",
       "    </tr>\n",
       "  </tbody>\n",
       "</table>\n",
       "<p>2491 rows × 4 columns</p>\n",
       "</div>"
      ],
      "text/plain": [
       "                Price   Returns  Simple_Ret  Lev_Returns\n",
       "Date                                                    \n",
       "2014-01-01 202.000000       NaN         NaN          NaN\n",
       "2014-01-02 199.850006 -0.010644   -0.010644    -0.021287\n",
       "2014-01-03 199.149994 -0.003503   -0.003503    -0.007005\n",
       "2014-01-06 198.949997 -0.001004   -0.001004    -0.002009\n",
       "2014-01-07 194.500000 -0.022367   -0.022367    -0.044735\n",
       "...               ...       ...         ...          ...\n",
       "2024-01-31 273.850006  0.028545    0.028545     0.057089\n",
       "2024-02-01 268.500000 -0.019536   -0.019536    -0.039073\n",
       "2024-02-02 272.549988  0.015084    0.015084     0.030168\n",
       "2024-02-05 273.600006  0.003853    0.003853     0.007705\n",
       "2024-02-06 283.000000  0.034357    0.034357     0.068713\n",
       "\n",
       "[2491 rows x 4 columns]"
      ]
     },
     "execution_count": 5,
     "metadata": {},
     "output_type": "execute_result"
    }
   ],
   "source": [
    "Ved[\"Lev_Returns\"] = Ved.Simple_Ret.mul(leverage) # Levered simple returns\n",
    "Ved   "
   ]
  },
  {
   "cell_type": "code",
   "execution_count": 6,
   "id": "874e8ca1",
   "metadata": {},
   "outputs": [],
   "source": [
    "# Ved[\"Lev_returns\"] = np.where(Ved[\"Lev_Returns\"]) < -1, -1, Ved[\"Lev_returns\"] # Limit loss to 100%"
   ]
  },
  {
   "cell_type": "code",
   "execution_count": 7,
   "id": "491fe6c4",
   "metadata": {},
   "outputs": [
    {
     "data": {
      "text/html": [
       "<div>\n",
       "<style scoped>\n",
       "    .dataframe tbody tr th:only-of-type {\n",
       "        vertical-align: middle;\n",
       "    }\n",
       "\n",
       "    .dataframe tbody tr th {\n",
       "        vertical-align: top;\n",
       "    }\n",
       "\n",
       "    .dataframe thead th {\n",
       "        text-align: right;\n",
       "    }\n",
       "</style>\n",
       "<table border=\"1\" class=\"dataframe\">\n",
       "  <thead>\n",
       "    <tr style=\"text-align: right;\">\n",
       "      <th></th>\n",
       "      <th>Price</th>\n",
       "      <th>Returns</th>\n",
       "      <th>Simple_Ret</th>\n",
       "      <th>Lev_Returns</th>\n",
       "    </tr>\n",
       "    <tr>\n",
       "      <th>Date</th>\n",
       "      <th></th>\n",
       "      <th></th>\n",
       "      <th></th>\n",
       "      <th></th>\n",
       "    </tr>\n",
       "  </thead>\n",
       "  <tbody>\n",
       "    <tr>\n",
       "      <th>2014-01-01</th>\n",
       "      <td>202.000000</td>\n",
       "      <td>NaN</td>\n",
       "      <td>NaN</td>\n",
       "      <td>NaN</td>\n",
       "    </tr>\n",
       "    <tr>\n",
       "      <th>2014-01-02</th>\n",
       "      <td>199.850006</td>\n",
       "      <td>-0.010644</td>\n",
       "      <td>-0.010644</td>\n",
       "      <td>-0.021287</td>\n",
       "    </tr>\n",
       "    <tr>\n",
       "      <th>2014-01-03</th>\n",
       "      <td>199.149994</td>\n",
       "      <td>-0.003503</td>\n",
       "      <td>-0.003503</td>\n",
       "      <td>-0.007005</td>\n",
       "    </tr>\n",
       "    <tr>\n",
       "      <th>2014-01-06</th>\n",
       "      <td>198.949997</td>\n",
       "      <td>-0.001004</td>\n",
       "      <td>-0.001004</td>\n",
       "      <td>-0.002009</td>\n",
       "    </tr>\n",
       "    <tr>\n",
       "      <th>2014-01-07</th>\n",
       "      <td>194.500000</td>\n",
       "      <td>-0.022367</td>\n",
       "      <td>-0.022367</td>\n",
       "      <td>-0.044735</td>\n",
       "    </tr>\n",
       "    <tr>\n",
       "      <th>...</th>\n",
       "      <td>...</td>\n",
       "      <td>...</td>\n",
       "      <td>...</td>\n",
       "      <td>...</td>\n",
       "    </tr>\n",
       "    <tr>\n",
       "      <th>2024-01-31</th>\n",
       "      <td>273.850006</td>\n",
       "      <td>0.028545</td>\n",
       "      <td>0.028545</td>\n",
       "      <td>0.057089</td>\n",
       "    </tr>\n",
       "    <tr>\n",
       "      <th>2024-02-01</th>\n",
       "      <td>268.500000</td>\n",
       "      <td>-0.019536</td>\n",
       "      <td>-0.019536</td>\n",
       "      <td>-0.039073</td>\n",
       "    </tr>\n",
       "    <tr>\n",
       "      <th>2024-02-02</th>\n",
       "      <td>272.549988</td>\n",
       "      <td>0.015084</td>\n",
       "      <td>0.015084</td>\n",
       "      <td>0.030168</td>\n",
       "    </tr>\n",
       "    <tr>\n",
       "      <th>2024-02-05</th>\n",
       "      <td>273.600006</td>\n",
       "      <td>0.003853</td>\n",
       "      <td>0.003853</td>\n",
       "      <td>0.007705</td>\n",
       "    </tr>\n",
       "    <tr>\n",
       "      <th>2024-02-06</th>\n",
       "      <td>283.000000</td>\n",
       "      <td>0.034357</td>\n",
       "      <td>0.034357</td>\n",
       "      <td>0.068713</td>\n",
       "    </tr>\n",
       "  </tbody>\n",
       "</table>\n",
       "<p>2491 rows × 4 columns</p>\n",
       "</div>"
      ],
      "text/plain": [
       "                Price   Returns  Simple_Ret  Lev_Returns\n",
       "Date                                                    \n",
       "2014-01-01 202.000000       NaN         NaN          NaN\n",
       "2014-01-02 199.850006 -0.010644   -0.010644    -0.021287\n",
       "2014-01-03 199.149994 -0.003503   -0.003503    -0.007005\n",
       "2014-01-06 198.949997 -0.001004   -0.001004    -0.002009\n",
       "2014-01-07 194.500000 -0.022367   -0.022367    -0.044735\n",
       "...               ...       ...         ...          ...\n",
       "2024-01-31 273.850006  0.028545    0.028545     0.057089\n",
       "2024-02-01 268.500000 -0.019536   -0.019536    -0.039073\n",
       "2024-02-02 272.549988  0.015084    0.015084     0.030168\n",
       "2024-02-05 273.600006  0.003853    0.003853     0.007705\n",
       "2024-02-06 283.000000  0.034357    0.034357     0.068713\n",
       "\n",
       "[2491 rows x 4 columns]"
      ]
     },
     "execution_count": 7,
     "metadata": {},
     "output_type": "execute_result"
    }
   ],
   "source": [
    "Ved"
   ]
  },
  {
   "cell_type": "code",
   "execution_count": 8,
   "id": "ba254f64",
   "metadata": {},
   "outputs": [
    {
     "data": {
      "text/html": [
       "<div>\n",
       "<style scoped>\n",
       "    .dataframe tbody tr th:only-of-type {\n",
       "        vertical-align: middle;\n",
       "    }\n",
       "\n",
       "    .dataframe tbody tr th {\n",
       "        vertical-align: top;\n",
       "    }\n",
       "\n",
       "    .dataframe thead th {\n",
       "        text-align: right;\n",
       "    }\n",
       "</style>\n",
       "<table border=\"1\" class=\"dataframe\">\n",
       "  <thead>\n",
       "    <tr style=\"text-align: right;\">\n",
       "      <th></th>\n",
       "      <th>Returns</th>\n",
       "      <th>Lev_Returns</th>\n",
       "    </tr>\n",
       "    <tr>\n",
       "      <th>Date</th>\n",
       "      <th></th>\n",
       "      <th></th>\n",
       "    </tr>\n",
       "  </thead>\n",
       "  <tbody>\n",
       "    <tr>\n",
       "      <th>2014-01-01</th>\n",
       "      <td>NaN</td>\n",
       "      <td>NaN</td>\n",
       "    </tr>\n",
       "    <tr>\n",
       "      <th>2014-01-02</th>\n",
       "      <td>-0.010644</td>\n",
       "      <td>-0.021287</td>\n",
       "    </tr>\n",
       "    <tr>\n",
       "      <th>2014-01-03</th>\n",
       "      <td>-0.003503</td>\n",
       "      <td>-0.007005</td>\n",
       "    </tr>\n",
       "    <tr>\n",
       "      <th>2014-01-06</th>\n",
       "      <td>-0.001004</td>\n",
       "      <td>-0.002009</td>\n",
       "    </tr>\n",
       "    <tr>\n",
       "      <th>2014-01-07</th>\n",
       "      <td>-0.022367</td>\n",
       "      <td>-0.044735</td>\n",
       "    </tr>\n",
       "    <tr>\n",
       "      <th>...</th>\n",
       "      <td>...</td>\n",
       "      <td>...</td>\n",
       "    </tr>\n",
       "    <tr>\n",
       "      <th>2024-01-31</th>\n",
       "      <td>0.028545</td>\n",
       "      <td>0.057089</td>\n",
       "    </tr>\n",
       "    <tr>\n",
       "      <th>2024-02-01</th>\n",
       "      <td>-0.019536</td>\n",
       "      <td>-0.039073</td>\n",
       "    </tr>\n",
       "    <tr>\n",
       "      <th>2024-02-02</th>\n",
       "      <td>0.015084</td>\n",
       "      <td>0.030168</td>\n",
       "    </tr>\n",
       "    <tr>\n",
       "      <th>2024-02-05</th>\n",
       "      <td>0.003853</td>\n",
       "      <td>0.007705</td>\n",
       "    </tr>\n",
       "    <tr>\n",
       "      <th>2024-02-06</th>\n",
       "      <td>0.034357</td>\n",
       "      <td>0.068713</td>\n",
       "    </tr>\n",
       "  </tbody>\n",
       "</table>\n",
       "<p>2491 rows × 2 columns</p>\n",
       "</div>"
      ],
      "text/plain": [
       "             Returns  Lev_Returns\n",
       "Date                             \n",
       "2014-01-01       NaN          NaN\n",
       "2014-01-02 -0.010644    -0.021287\n",
       "2014-01-03 -0.003503    -0.007005\n",
       "2014-01-06 -0.001004    -0.002009\n",
       "2014-01-07 -0.022367    -0.044735\n",
       "...              ...          ...\n",
       "2024-01-31  0.028545     0.057089\n",
       "2024-02-01 -0.019536    -0.039073\n",
       "2024-02-02  0.015084     0.030168\n",
       "2024-02-05  0.003853     0.007705\n",
       "2024-02-06  0.034357     0.068713\n",
       "\n",
       "[2491 rows x 2 columns]"
      ]
     },
     "execution_count": 8,
     "metadata": {},
     "output_type": "execute_result"
    }
   ],
   "source": [
    "Ved[[\"Returns\", \"Lev_Returns\"]]#.add(1)"
   ]
  },
  {
   "cell_type": "code",
   "execution_count": 9,
   "id": "71473a5d",
   "metadata": {},
   "outputs": [
    {
     "data": {
      "text/html": [
       "<div>\n",
       "<style scoped>\n",
       "    .dataframe tbody tr th:only-of-type {\n",
       "        vertical-align: middle;\n",
       "    }\n",
       "\n",
       "    .dataframe tbody tr th {\n",
       "        vertical-align: top;\n",
       "    }\n",
       "\n",
       "    .dataframe thead th {\n",
       "        text-align: right;\n",
       "    }\n",
       "</style>\n",
       "<table border=\"1\" class=\"dataframe\">\n",
       "  <thead>\n",
       "    <tr style=\"text-align: right;\">\n",
       "      <th></th>\n",
       "      <th>Returns</th>\n",
       "      <th>Lev_Returns</th>\n",
       "    </tr>\n",
       "    <tr>\n",
       "      <th>Date</th>\n",
       "      <th></th>\n",
       "      <th></th>\n",
       "    </tr>\n",
       "  </thead>\n",
       "  <tbody>\n",
       "    <tr>\n",
       "      <th>2014-01-01</th>\n",
       "      <td>NaN</td>\n",
       "      <td>NaN</td>\n",
       "    </tr>\n",
       "    <tr>\n",
       "      <th>2014-01-02</th>\n",
       "      <td>0.989356</td>\n",
       "      <td>0.978713</td>\n",
       "    </tr>\n",
       "    <tr>\n",
       "      <th>2014-01-03</th>\n",
       "      <td>0.996497</td>\n",
       "      <td>0.992995</td>\n",
       "    </tr>\n",
       "    <tr>\n",
       "      <th>2014-01-06</th>\n",
       "      <td>0.998996</td>\n",
       "      <td>0.997991</td>\n",
       "    </tr>\n",
       "    <tr>\n",
       "      <th>2014-01-07</th>\n",
       "      <td>0.977633</td>\n",
       "      <td>0.955265</td>\n",
       "    </tr>\n",
       "    <tr>\n",
       "      <th>...</th>\n",
       "      <td>...</td>\n",
       "      <td>...</td>\n",
       "    </tr>\n",
       "    <tr>\n",
       "      <th>2024-01-31</th>\n",
       "      <td>1.028545</td>\n",
       "      <td>1.057089</td>\n",
       "    </tr>\n",
       "    <tr>\n",
       "      <th>2024-02-01</th>\n",
       "      <td>0.980464</td>\n",
       "      <td>0.960927</td>\n",
       "    </tr>\n",
       "    <tr>\n",
       "      <th>2024-02-02</th>\n",
       "      <td>1.015084</td>\n",
       "      <td>1.030168</td>\n",
       "    </tr>\n",
       "    <tr>\n",
       "      <th>2024-02-05</th>\n",
       "      <td>1.003853</td>\n",
       "      <td>1.007705</td>\n",
       "    </tr>\n",
       "    <tr>\n",
       "      <th>2024-02-06</th>\n",
       "      <td>1.034357</td>\n",
       "      <td>1.068713</td>\n",
       "    </tr>\n",
       "  </tbody>\n",
       "</table>\n",
       "<p>2491 rows × 2 columns</p>\n",
       "</div>"
      ],
      "text/plain": [
       "            Returns  Lev_Returns\n",
       "Date                            \n",
       "2014-01-01      NaN          NaN\n",
       "2014-01-02 0.989356     0.978713\n",
       "2014-01-03 0.996497     0.992995\n",
       "2014-01-06 0.998996     0.997991\n",
       "2014-01-07 0.977633     0.955265\n",
       "...             ...          ...\n",
       "2024-01-31 1.028545     1.057089\n",
       "2024-02-01 0.980464     0.960927\n",
       "2024-02-02 1.015084     1.030168\n",
       "2024-02-05 1.003853     1.007705\n",
       "2024-02-06 1.034357     1.068713\n",
       "\n",
       "[2491 rows x 2 columns]"
      ]
     },
     "execution_count": 9,
     "metadata": {},
     "output_type": "execute_result"
    }
   ],
   "source": [
    "Ved[[\"Returns\", \"Lev_Returns\"]].add(1)"
   ]
  },
  {
   "cell_type": "code",
   "execution_count": 10,
   "id": "705ff7bf",
   "metadata": {},
   "outputs": [
    {
     "data": {
      "text/html": [
       "<div>\n",
       "<style scoped>\n",
       "    .dataframe tbody tr th:only-of-type {\n",
       "        vertical-align: middle;\n",
       "    }\n",
       "\n",
       "    .dataframe tbody tr th {\n",
       "        vertical-align: top;\n",
       "    }\n",
       "\n",
       "    .dataframe thead th {\n",
       "        text-align: right;\n",
       "    }\n",
       "</style>\n",
       "<table border=\"1\" class=\"dataframe\">\n",
       "  <thead>\n",
       "    <tr style=\"text-align: right;\">\n",
       "      <th></th>\n",
       "      <th>Returns</th>\n",
       "      <th>Lev_Returns</th>\n",
       "    </tr>\n",
       "    <tr>\n",
       "      <th>Date</th>\n",
       "      <th></th>\n",
       "      <th></th>\n",
       "    </tr>\n",
       "  </thead>\n",
       "  <tbody>\n",
       "    <tr>\n",
       "      <th>2014-01-01</th>\n",
       "      <td>NaN</td>\n",
       "      <td>NaN</td>\n",
       "    </tr>\n",
       "    <tr>\n",
       "      <th>2014-01-02</th>\n",
       "      <td>0.989356</td>\n",
       "      <td>0.978713</td>\n",
       "    </tr>\n",
       "    <tr>\n",
       "      <th>2014-01-03</th>\n",
       "      <td>0.985891</td>\n",
       "      <td>0.971857</td>\n",
       "    </tr>\n",
       "    <tr>\n",
       "      <th>2014-01-06</th>\n",
       "      <td>0.984901</td>\n",
       "      <td>0.969905</td>\n",
       "    </tr>\n",
       "    <tr>\n",
       "      <th>2014-01-07</th>\n",
       "      <td>0.962871</td>\n",
       "      <td>0.926516</td>\n",
       "    </tr>\n",
       "    <tr>\n",
       "      <th>...</th>\n",
       "      <td>...</td>\n",
       "      <td>...</td>\n",
       "    </tr>\n",
       "    <tr>\n",
       "      <th>2024-01-31</th>\n",
       "      <td>1.355693</td>\n",
       "      <td>0.238022</td>\n",
       "    </tr>\n",
       "    <tr>\n",
       "      <th>2024-02-01</th>\n",
       "      <td>1.329208</td>\n",
       "      <td>0.228722</td>\n",
       "    </tr>\n",
       "    <tr>\n",
       "      <th>2024-02-02</th>\n",
       "      <td>1.349257</td>\n",
       "      <td>0.235622</td>\n",
       "    </tr>\n",
       "    <tr>\n",
       "      <th>2024-02-05</th>\n",
       "      <td>1.354455</td>\n",
       "      <td>0.237438</td>\n",
       "    </tr>\n",
       "    <tr>\n",
       "      <th>2024-02-06</th>\n",
       "      <td>1.400990</td>\n",
       "      <td>0.253753</td>\n",
       "    </tr>\n",
       "  </tbody>\n",
       "</table>\n",
       "<p>2491 rows × 2 columns</p>\n",
       "</div>"
      ],
      "text/plain": [
       "            Returns  Lev_Returns\n",
       "Date                            \n",
       "2014-01-01      NaN          NaN\n",
       "2014-01-02 0.989356     0.978713\n",
       "2014-01-03 0.985891     0.971857\n",
       "2014-01-06 0.984901     0.969905\n",
       "2014-01-07 0.962871     0.926516\n",
       "...             ...          ...\n",
       "2024-01-31 1.355693     0.238022\n",
       "2024-02-01 1.329208     0.228722\n",
       "2024-02-02 1.349257     0.235622\n",
       "2024-02-05 1.354455     0.237438\n",
       "2024-02-06 1.400990     0.253753\n",
       "\n",
       "[2491 rows x 2 columns]"
      ]
     },
     "execution_count": 10,
     "metadata": {},
     "output_type": "execute_result"
    }
   ],
   "source": [
    "Ved[[\"Returns\", \"Lev_Returns\"]].add(1).cumprod()"
   ]
  },
  {
   "cell_type": "code",
   "execution_count": 11,
   "id": "29888b04",
   "metadata": {},
   "outputs": [
    {
     "data": {
      "text/plain": [
       "0.9225436465771661"
      ]
     },
     "execution_count": 11,
     "metadata": {},
     "output_type": "execute_result"
    }
   ],
   "source": [
    "0.978713*0.969905*0.971857"
   ]
  },
  {
   "cell_type": "code",
   "execution_count": 12,
   "id": "82b05aa2",
   "metadata": {},
   "outputs": [
    {
     "data": {
      "image/png": "[encoded data removed]",
      "text/plain": [
       "<Figure size 1500x800 with 1 Axes>"
      ]
     },
     "metadata": {},
     "output_type": "display_data"
    }
   ],
   "source": [
    "Ved[[\"Returns\", \"Lev_Returns\"]].add(1).cumprod().plot(figsize = (15,8), fontsize = 13)\n",
    "plt.legend(fontsize = 13)\n",
    "plt.show()"
   ]
  },
  {
   "cell_type": "code",
   "execution_count": 13,
   "id": "48112a89",
   "metadata": {},
   "outputs": [
    {
     "data": {
      "text/plain": [
       "0.18577075098814233"
      ]
     },
     "execution_count": 13,
     "metadata": {},
     "output_type": "execute_result"
    }
   ],
   "source": [
    "Ved.Simple_Ret.max()"
   ]
  },
  {
   "cell_type": "code",
   "execution_count": 14,
   "id": "4f21b8ca",
   "metadata": {},
   "outputs": [
    {
     "data": {
      "text/plain": [
       "0.37154150197628466"
      ]
     },
     "execution_count": 14,
     "metadata": {},
     "output_type": "execute_result"
    }
   ],
   "source": [
    "Ved.Lev_Returns.max()"
   ]
  },
  {
   "cell_type": "code",
   "execution_count": 15,
   "id": "0064fb15",
   "metadata": {},
   "outputs": [
    {
     "data": {
      "text/plain": [
       "-0.2043496252580359"
      ]
     },
     "execution_count": 15,
     "metadata": {},
     "output_type": "execute_result"
    }
   ],
   "source": [
    "Ved.Simple_Ret.min()"
   ]
  },
  {
   "cell_type": "code",
   "execution_count": 16,
   "id": "86a9f423",
   "metadata": {},
   "outputs": [
    {
     "data": {
      "text/plain": [
       "-0.4086992505160718"
      ]
     },
     "execution_count": 16,
     "metadata": {},
     "output_type": "execute_result"
    }
   ],
   "source": [
    "Ved.Lev_Returns.min()"
   ]
  },
  {
   "cell_type": "markdown",
   "id": "e717186c",
   "metadata": {},
   "source": [
    "### What happens when leverage greater than....?"
   ]
  },
  {
   "cell_type": "code",
   "execution_count": 17,
   "id": "5cd92f0c",
   "metadata": {},
   "outputs": [
    {
     "data": {
      "text/plain": [
       "4.893573936028912"
      ]
     },
     "execution_count": 17,
     "metadata": {},
     "output_type": "execute_result"
    }
   ],
   "source": [
    "-1 / Ved.Simple_Ret.min()"
   ]
  },
  {
   "cell_type": "markdown",
   "id": "a0d82569",
   "metadata": {},
   "source": [
    "### Take Home: \n",
    "1. With leverage you can (Theoretically) lose more than the initial Margin (In practice: margin call / margin closeout before)\n",
    "2. Even for (highly) profitable instruments: \"The more leverage the better\" does not hold.\n",
    "3. It's a two edged (non-symmetrical) sword: Leverage amplifies losses more than it amplifies gains."
   ]
  },
  {
   "cell_type": "code",
   "execution_count": null,
   "id": "c0225611",
   "metadata": {},
   "outputs": [],
   "source": []
  }
 ],
 "metadata": {
  "kernelspec": {
   "display_name": "Python 3 (ipykernel)",
   "language": "python",
   "name": "python3"
  },
  "language_info": {
   "codemirror_mode": {
    "name": "ipython",
    "version": 3
   },
   "file_extension": ".py",
   "mimetype": "text/x-python",
   "name": "python",
   "nbconvert_exporter": "python",
   "pygments_lexer": "ipython3",
   "version": "3.11.5"
  }
 },
 "nbformat": 4,
 "nbformat_minor": 5
}
