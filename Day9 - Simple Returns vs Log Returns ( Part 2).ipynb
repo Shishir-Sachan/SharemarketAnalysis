{
 "cells": [
  {
   "cell_type": "code",
   "execution_count": 2,
   "id": "d61088b5",
   "metadata": {},
   "outputs": [],
   "source": [
    "import pandas as pd\n",
    "import numpy as np\n",
    "pd.options.display.float_format = '{:.6f}'.format"
   ]
  },
  {
   "cell_type": "code",
   "execution_count": 3,
   "id": "9a3e4aa1",
   "metadata": {},
   "outputs": [],
   "source": [
    "Ved = pd.read_csv(\"Ved.csv\", index_col = \"Date\", parse_dates=[\"Date\"])"
   ]
  },
  {
   "cell_type": "code",
   "execution_count": 4,
   "id": "22086d55",
   "metadata": {},
   "outputs": [],
   "source": [
    "Ved[\"log_ret\"] = np.log(Ved.Price / Ved.Price.shift())"
   ]
  },
  {
   "cell_type": "code",
   "execution_count": 5,
   "id": "bfb530ee",
   "metadata": {},
   "outputs": [
    {
     "data": {
      "text/html": [
       "<div>\n",
       "<style scoped>\n",
       "    .dataframe tbody tr th:only-of-type {\n",
       "        vertical-align: middle;\n",
       "    }\n",
       "\n",
       "    .dataframe tbody tr th {\n",
       "        vertical-align: top;\n",
       "    }\n",
       "\n",
       "    .dataframe thead th {\n",
       "        text-align: right;\n",
       "    }\n",
       "</style>\n",
       "<table border=\"1\" class=\"dataframe\">\n",
       "  <thead>\n",
       "    <tr style=\"text-align: right;\">\n",
       "      <th></th>\n",
       "      <th>Price</th>\n",
       "      <th>Returns</th>\n",
       "      <th>log_ret</th>\n",
       "    </tr>\n",
       "    <tr>\n",
       "      <th>Date</th>\n",
       "      <th></th>\n",
       "      <th></th>\n",
       "      <th></th>\n",
       "    </tr>\n",
       "  </thead>\n",
       "  <tbody>\n",
       "    <tr>\n",
       "      <th>2014-01-01</th>\n",
       "      <td>202.000000</td>\n",
       "      <td>NaN</td>\n",
       "      <td>NaN</td>\n",
       "    </tr>\n",
       "    <tr>\n",
       "      <th>2014-01-02</th>\n",
       "      <td>199.850006</td>\n",
       "      <td>-0.010644</td>\n",
       "      <td>-0.010701</td>\n",
       "    </tr>\n",
       "    <tr>\n",
       "      <th>2014-01-03</th>\n",
       "      <td>199.149994</td>\n",
       "      <td>-0.003503</td>\n",
       "      <td>-0.003509</td>\n",
       "    </tr>\n",
       "    <tr>\n",
       "      <th>2014-01-06</th>\n",
       "      <td>198.949997</td>\n",
       "      <td>-0.001004</td>\n",
       "      <td>-0.001005</td>\n",
       "    </tr>\n",
       "    <tr>\n",
       "      <th>2014-01-07</th>\n",
       "      <td>194.500000</td>\n",
       "      <td>-0.022367</td>\n",
       "      <td>-0.022621</td>\n",
       "    </tr>\n",
       "    <tr>\n",
       "      <th>...</th>\n",
       "      <td>...</td>\n",
       "      <td>...</td>\n",
       "      <td>...</td>\n",
       "    </tr>\n",
       "    <tr>\n",
       "      <th>2024-01-31</th>\n",
       "      <td>273.850006</td>\n",
       "      <td>0.028545</td>\n",
       "      <td>0.028145</td>\n",
       "    </tr>\n",
       "    <tr>\n",
       "      <th>2024-02-01</th>\n",
       "      <td>268.500000</td>\n",
       "      <td>-0.019536</td>\n",
       "      <td>-0.019730</td>\n",
       "    </tr>\n",
       "    <tr>\n",
       "      <th>2024-02-02</th>\n",
       "      <td>272.549988</td>\n",
       "      <td>0.015084</td>\n",
       "      <td>0.014971</td>\n",
       "    </tr>\n",
       "    <tr>\n",
       "      <th>2024-02-05</th>\n",
       "      <td>273.600006</td>\n",
       "      <td>0.003853</td>\n",
       "      <td>0.003845</td>\n",
       "    </tr>\n",
       "    <tr>\n",
       "      <th>2024-02-06</th>\n",
       "      <td>283.000000</td>\n",
       "      <td>0.034357</td>\n",
       "      <td>0.033780</td>\n",
       "    </tr>\n",
       "  </tbody>\n",
       "</table>\n",
       "<p>2491 rows × 3 columns</p>\n",
       "</div>"
      ],
      "text/plain": [
       "                Price   Returns   log_ret\n",
       "Date                                     \n",
       "2014-01-01 202.000000       NaN       NaN\n",
       "2014-01-02 199.850006 -0.010644 -0.010701\n",
       "2014-01-03 199.149994 -0.003503 -0.003509\n",
       "2014-01-06 198.949997 -0.001004 -0.001005\n",
       "2014-01-07 194.500000 -0.022367 -0.022621\n",
       "...               ...       ...       ...\n",
       "2024-01-31 273.850006  0.028545  0.028145\n",
       "2024-02-01 268.500000 -0.019536 -0.019730\n",
       "2024-02-02 272.549988  0.015084  0.014971\n",
       "2024-02-05 273.600006  0.003853  0.003845\n",
       "2024-02-06 283.000000  0.034357  0.033780\n",
       "\n",
       "[2491 rows x 3 columns]"
      ]
     },
     "execution_count": 5,
     "metadata": {},
     "output_type": "execute_result"
    }
   ],
   "source": [
    "Ved"
   ]
  },
  {
   "cell_type": "markdown",
   "id": "95876700",
   "metadata": {},
   "source": [
    "### Investment Multiple"
   ]
  },
  {
   "cell_type": "code",
   "execution_count": 7,
   "id": "af704d0e",
   "metadata": {},
   "outputs": [
    {
     "data": {
      "text/plain": [
       "1.4009900990099813"
      ]
     },
     "execution_count": 7,
     "metadata": {},
     "output_type": "execute_result"
    }
   ],
   "source": [
    "Ved.Returns.add(1).prod() # compounding simple returns (\"compound returns\")"
   ]
  },
  {
   "cell_type": "code",
   "execution_count": 8,
   "id": "59135b56",
   "metadata": {},
   "outputs": [
    {
     "data": {
      "text/plain": [
       "1.4009900990098962"
      ]
     },
     "execution_count": 8,
     "metadata": {},
     "output_type": "execute_result"
    }
   ],
   "source": [
    "np.exp(Ved.log_ret.sum()) #adding log returns(\"cumulative returns\")"
   ]
  },
  {
   "cell_type": "markdown",
   "id": "33b306ea",
   "metadata": {},
   "source": [
    "### Normalized Prices with Base 1"
   ]
  },
  {
   "cell_type": "code",
   "execution_count": 10,
   "id": "c9b5c555",
   "metadata": {},
   "outputs": [
    {
     "data": {
      "text/plain": [
       "Date\n",
       "2014-01-01        NaN\n",
       "2014-01-02   0.989356\n",
       "2014-01-03   0.985891\n",
       "2014-01-06   0.984901\n",
       "2014-01-07   0.962871\n",
       "               ...   \n",
       "2024-01-31   1.355693\n",
       "2024-02-01   1.329208\n",
       "2024-02-02   1.349257\n",
       "2024-02-05   1.354455\n",
       "2024-02-06   1.400990\n",
       "Name: Returns, Length: 2491, dtype: float64"
      ]
     },
     "execution_count": 10,
     "metadata": {},
     "output_type": "execute_result"
    }
   ],
   "source": [
    "Ved.Returns.add(1).cumprod() # compounding simple returns (\"compound returns\")"
   ]
  },
  {
   "cell_type": "code",
   "execution_count": 13,
   "id": "0779e192",
   "metadata": {},
   "outputs": [
    {
     "data": {
      "text/plain": [
       "Date\n",
       "2014-01-01        NaN\n",
       "2014-01-02   0.989356\n",
       "2014-01-03   0.985891\n",
       "2014-01-06   0.984901\n",
       "2014-01-07   0.962871\n",
       "               ...   \n",
       "2024-01-31   1.355693\n",
       "2024-02-01   1.329208\n",
       "2024-02-02   1.349257\n",
       "2024-02-05   1.354455\n",
       "2024-02-06   1.400990\n",
       "Name: log_ret, Length: 2491, dtype: float64"
      ]
     },
     "execution_count": 13,
     "metadata": {},
     "output_type": "execute_result"
    }
   ],
   "source": [
    "np.exp(Ved.log_ret.cumsum()) # adding log returns (\"Cumulative returns\")"
   ]
  },
  {
   "cell_type": "code",
   "execution_count": 14,
   "id": "e20520dc",
   "metadata": {},
   "outputs": [
    {
     "data": {
      "text/plain": [
       "Date\n",
       "2014-01-01        NaN\n",
       "2014-01-02   0.989356\n",
       "2014-01-03   0.985891\n",
       "2014-01-06   0.984901\n",
       "2014-01-07   0.962871\n",
       "               ...   \n",
       "2024-01-31   1.355693\n",
       "2024-02-01   1.329208\n",
       "2024-02-02   1.349257\n",
       "2024-02-05   1.354455\n",
       "2024-02-06   1.400990\n",
       "Name: log_ret, Length: 2491, dtype: float64"
      ]
     },
     "execution_count": 14,
     "metadata": {},
     "output_type": "execute_result"
    }
   ],
   "source": [
    "Ved.log_ret.cumsum().apply(np.exp) # adding log returns (\"cumulative returns\")"
   ]
  },
  {
   "cell_type": "markdown",
   "id": "cdce3c2f",
   "metadata": {},
   "source": [
    "## CAGR"
   ]
  },
  {
   "cell_type": "code",
   "execution_count": 17,
   "id": "3a3dc70a",
   "metadata": {},
   "outputs": [
    {
     "data": {
      "text/plain": [
       "0.03395717418883715"
      ]
     },
     "execution_count": 17,
     "metadata": {},
     "output_type": "execute_result"
    }
   ],
   "source": [
    "(Ved.Price[-1]/Ved.Price[0])**(1/((Ved.index[-1] - Ved.index[0]).days/365.25))-1"
   ]
  },
  {
   "cell_type": "code",
   "execution_count": 19,
   "id": "10619d5b",
   "metadata": {},
   "outputs": [
    {
     "data": {
      "text/plain": [
       "246.60317245119307"
      ]
     },
     "execution_count": 19,
     "metadata": {},
     "output_type": "execute_result"
    }
   ],
   "source": [
    "trading_days_year = Ved.Returns.count() / ((Ved.index[-1] - Ved.index[0]).days / 365.25)\n",
    "trading_days_year"
   ]
  },
  {
   "cell_type": "code",
   "execution_count": 20,
   "id": "f9233dc7",
   "metadata": {},
   "outputs": [
    {
     "data": {
      "text/plain": [
       "0.0339571741888367"
      ]
     },
     "execution_count": 20,
     "metadata": {},
     "output_type": "execute_result"
    }
   ],
   "source": [
    "np.exp(Ved.log_ret.mean()*trading_days_year) - 1 #correct with mean of daily log returns!"
   ]
  },
  {
   "cell_type": "code",
   "execution_count": 22,
   "id": "fcafea63",
   "metadata": {},
   "outputs": [
    {
     "data": {
      "text/plain": [
       "0.03471306875298996"
      ]
     },
     "execution_count": 22,
     "metadata": {},
     "output_type": "execute_result"
    }
   ],
   "source": [
    "np.exp(Ved.log_ret.mean()*252)-1 # good approximation(for us stockes)"
   ]
  },
  {
   "cell_type": "code",
   "execution_count": null,
   "id": "f3244bec",
   "metadata": {},
   "outputs": [],
   "source": []
  }
 ],
 "metadata": {
  "kernelspec": {
   "display_name": "Python 3 (ipykernel)",
   "language": "python",
   "name": "python3"
  },
  "language_info": {
   "codemirror_mode": {
    "name": "ipython",
    "version": 3
   },
   "file_extension": ".py",
   "mimetype": "text/x-python",
   "name": "python",
   "nbconvert_exporter": "python",
   "pygments_lexer": "ipython3",
   "version": "3.11.5"
  }
 },
 "nbformat": 4,
 "nbformat_minor": 5
}
