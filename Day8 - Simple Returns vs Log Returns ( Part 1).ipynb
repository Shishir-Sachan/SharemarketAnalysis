{
 "cells": [
  {
   "cell_type": "code",
   "execution_count": 1,
   "id": "0511b975",
   "metadata": {},
   "outputs": [],
   "source": [
    "import pandas as pd\n",
    "import numpy as np\n",
    "pd.options.display.float_format = '{:.6f}'.format"
   ]
  },
  {
   "cell_type": "code",
   "execution_count": 3,
   "id": "501234a2",
   "metadata": {},
   "outputs": [
    {
     "data": {
      "text/html": [
       "<div>\n",
       "<style scoped>\n",
       "    .dataframe tbody tr th:only-of-type {\n",
       "        vertical-align: middle;\n",
       "    }\n",
       "\n",
       "    .dataframe tbody tr th {\n",
       "        vertical-align: top;\n",
       "    }\n",
       "\n",
       "    .dataframe thead th {\n",
       "        text-align: right;\n",
       "    }\n",
       "</style>\n",
       "<table border=\"1\" class=\"dataframe\">\n",
       "  <thead>\n",
       "    <tr style=\"text-align: right;\">\n",
       "      <th></th>\n",
       "      <th>Price</th>\n",
       "    </tr>\n",
       "  </thead>\n",
       "  <tbody>\n",
       "    <tr>\n",
       "      <th>0</th>\n",
       "      <td>100</td>\n",
       "    </tr>\n",
       "    <tr>\n",
       "      <th>1</th>\n",
       "      <td>50</td>\n",
       "    </tr>\n",
       "    <tr>\n",
       "      <th>2</th>\n",
       "      <td>90</td>\n",
       "    </tr>\n",
       "  </tbody>\n",
       "</table>\n",
       "</div>"
      ],
      "text/plain": [
       "   Price\n",
       "0    100\n",
       "1     50\n",
       "2     90"
      ]
     },
     "execution_count": 3,
     "metadata": {},
     "output_type": "execute_result"
    }
   ],
   "source": [
    "df=pd.DataFrame(data = [100, 50, 90], columns = [\"Price\"])\n",
    "df"
   ]
  },
  {
   "cell_type": "code",
   "execution_count": 5,
   "id": "481911f5",
   "metadata": {},
   "outputs": [],
   "source": [
    "df[\"SR\"] = df.Price.pct_change() # simple returns"
   ]
  },
  {
   "cell_type": "code",
   "execution_count": 6,
   "id": "fc1ac3ba",
   "metadata": {},
   "outputs": [],
   "source": [
    "df[\"LR\"] = np.log(df.Price / df.Price.shift()) # Log returns"
   ]
  },
  {
   "cell_type": "code",
   "execution_count": 7,
   "id": "1b6c389e",
   "metadata": {},
   "outputs": [
    {
     "data": {
      "text/html": [
       "<div>\n",
       "<style scoped>\n",
       "    .dataframe tbody tr th:only-of-type {\n",
       "        vertical-align: middle;\n",
       "    }\n",
       "\n",
       "    .dataframe tbody tr th {\n",
       "        vertical-align: top;\n",
       "    }\n",
       "\n",
       "    .dataframe thead th {\n",
       "        text-align: right;\n",
       "    }\n",
       "</style>\n",
       "<table border=\"1\" class=\"dataframe\">\n",
       "  <thead>\n",
       "    <tr style=\"text-align: right;\">\n",
       "      <th></th>\n",
       "      <th>Price</th>\n",
       "      <th>SR</th>\n",
       "      <th>LR</th>\n",
       "    </tr>\n",
       "  </thead>\n",
       "  <tbody>\n",
       "    <tr>\n",
       "      <th>0</th>\n",
       "      <td>100</td>\n",
       "      <td>NaN</td>\n",
       "      <td>NaN</td>\n",
       "    </tr>\n",
       "    <tr>\n",
       "      <th>1</th>\n",
       "      <td>50</td>\n",
       "      <td>-0.500000</td>\n",
       "      <td>-0.693147</td>\n",
       "    </tr>\n",
       "    <tr>\n",
       "      <th>2</th>\n",
       "      <td>90</td>\n",
       "      <td>0.800000</td>\n",
       "      <td>0.587787</td>\n",
       "    </tr>\n",
       "  </tbody>\n",
       "</table>\n",
       "</div>"
      ],
      "text/plain": [
       "   Price        SR        LR\n",
       "0    100       NaN       NaN\n",
       "1     50 -0.500000 -0.693147\n",
       "2     90  0.800000  0.587787"
      ]
     },
     "execution_count": 7,
     "metadata": {},
     "output_type": "execute_result"
    }
   ],
   "source": [
    "df"
   ]
  },
  {
   "cell_type": "code",
   "execution_count": 8,
   "id": "0439c2ba",
   "metadata": {},
   "outputs": [
    {
     "data": {
      "text/plain": [
       "2"
      ]
     },
     "execution_count": 8,
     "metadata": {},
     "output_type": "execute_result"
    }
   ],
   "source": [
    "periods = df.SR.count()\n",
    "periods"
   ]
  },
  {
   "cell_type": "markdown",
   "id": "d86adca2",
   "metadata": {},
   "source": [
    " ### The Airthmetic mean of simple returns can be misleading!"
   ]
  },
  {
   "cell_type": "code",
   "execution_count": 9,
   "id": "f63f2366",
   "metadata": {},
   "outputs": [
    {
     "data": {
      "text/plain": [
       "0.15000000000000002"
      ]
     },
     "execution_count": 9,
     "metadata": {},
     "output_type": "execute_result"
    }
   ],
   "source": [
    "mean_sr = df.SR.mean()\n",
    "mean_sr"
   ]
  },
  {
   "cell_type": "code",
   "execution_count": 10,
   "id": "ffc2debc",
   "metadata": {},
   "outputs": [
    {
     "data": {
      "text/plain": [
       "132.24999999999997"
      ]
     },
     "execution_count": 10,
     "metadata": {},
     "output_type": "execute_result"
    }
   ],
   "source": [
    "100*(1+mean_sr)**periods #wrong!!!"
   ]
  },
  {
   "cell_type": "markdown",
   "id": "6c0788b3",
   "metadata": {},
   "source": [
    "### We should use Compound Simple Returns / Geometricc Mean, or even better....\n"
   ]
  },
  {
   "cell_type": "code",
   "execution_count": 11,
   "id": "9007b9c9",
   "metadata": {},
   "outputs": [
    {
     "data": {
      "text/plain": [
       "-0.05131670194948623"
      ]
     },
     "execution_count": 11,
     "metadata": {},
     "output_type": "execute_result"
    }
   ],
   "source": [
    "geo_mean = (1+df.SR).prod()**(1/periods)-1\n",
    "geo_mean"
   ]
  },
  {
   "cell_type": "code",
   "execution_count": 12,
   "id": "4ee19066",
   "metadata": {},
   "outputs": [
    {
     "data": {
      "text/plain": [
       "89.99999999999999"
      ]
     },
     "execution_count": 12,
     "metadata": {},
     "output_type": "execute_result"
    }
   ],
   "source": [
    "100*(1+geo_mean)**periods #Correct!!!"
   ]
  },
  {
   "cell_type": "markdown",
   "id": "ad8b28ee",
   "metadata": {},
   "source": [
    "### Log returns which are additive over time!"
   ]
  },
  {
   "cell_type": "code",
   "execution_count": 13,
   "id": "8578c7de",
   "metadata": {},
   "outputs": [
    {
     "data": {
      "text/plain": [
       "-0.10536051565782623"
      ]
     },
     "execution_count": 13,
     "metadata": {},
     "output_type": "execute_result"
    }
   ],
   "source": [
    "sum_lr = df.LR.sum()\n",
    "sum_lr"
   ]
  },
  {
   "cell_type": "code",
   "execution_count": 14,
   "id": "5367b800",
   "metadata": {},
   "outputs": [
    {
     "data": {
      "text/plain": [
       "90.0"
      ]
     },
     "execution_count": 14,
     "metadata": {},
     "output_type": "execute_result"
    }
   ],
   "source": [
    "100*np.exp(sum_lr) # correct!!!"
   ]
  },
  {
   "cell_type": "code",
   "execution_count": 15,
   "id": "9c5e0e98",
   "metadata": {},
   "outputs": [
    {
     "data": {
      "text/plain": [
       "-0.05268025782891311"
      ]
     },
     "execution_count": 15,
     "metadata": {},
     "output_type": "execute_result"
    }
   ],
   "source": [
    "mean_lr = df.LR.mean()\n",
    "mean_lr"
   ]
  },
  {
   "cell_type": "code",
   "execution_count": 16,
   "id": "85aefe1f",
   "metadata": {},
   "outputs": [
    {
     "data": {
      "text/plain": [
       "90.0"
      ]
     },
     "execution_count": 16,
     "metadata": {},
     "output_type": "execute_result"
    }
   ],
   "source": [
    "100*np.exp(mean_lr*periods) # correct!!!"
   ]
  },
  {
   "cell_type": "markdown",
   "id": "1f39e57c",
   "metadata": {},
   "source": [
    "## Take home: Log Returns are additive over time. Simple Returns are not additive over time (but they can be multiplied/compounded)"
   ]
  }
 ],
 "metadata": {
  "kernelspec": {
   "display_name": "Python 3 (ipykernel)",
   "language": "python",
   "name": "python3"
  },
  "language_info": {
   "codemirror_mode": {
    "name": "ipython",
    "version": 3
   },
   "file_extension": ".py",
   "mimetype": "text/x-python",
   "name": "python",
   "nbconvert_exporter": "python",
   "pygments_lexer": "ipython3",
   "version": "3.11.5"
  }
 },
 "nbformat": 4,
 "nbformat_minor": 5
}
