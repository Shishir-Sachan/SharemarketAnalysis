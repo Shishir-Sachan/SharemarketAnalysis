{
 "cells": [
  {
   "cell_type": "markdown",
   "id": "19789759",
   "metadata": {},
   "source": [
    "### Preview: Simple Returns v. Logarithmicc Returns (log returns)"
   ]
  },
  {
   "cell_type": "markdown",
   "id": "d817cc48",
   "metadata": {},
   "source": [
    "##### Very often returns are used instead of simple returns. \n",
    "  > favourable characteristics of log returns\n",
    "  \n",
    "  > drawbacks of simple returns\n",
    "  \n",
    "Problem: many students / practitioners feel uncomfortable with log returns.\n",
    "> more details background on log returns in the nest two lectures (Discrete vs. continuous compounding)"
   ]
  },
  {
   "cell_type": "markdown",
   "id": "d60df24a",
   "metadata": {},
   "source": [
    "#### Discrete Compounding\n",
    "\n",
    "`Annual Compounding` -- Interests accrue once a year at the end of the year\n",
    "\n",
    "Your Saving bank offers an interest rate of 8% p.a (stated rate) with annuaal compounding on your saving (USD 100).\n",
    "Calculate the value of your savings account after one year and the corresponding effective annual interest rate.\n",
    "\n",
    "> Interests are calculated and added to your savings account once at the end of eac year"
   ]
  },
  {
   "cell_type": "code",
   "execution_count": 2,
   "id": "b968d330",
   "metadata": {},
   "outputs": [],
   "source": [
    "PV = 100\n",
    "r = 0.08\n",
    "n = 1"
   ]
  },
  {
   "cell_type": "code",
   "execution_count": 3,
   "id": "85c2759e",
   "metadata": {},
   "outputs": [
    {
     "data": {
      "text/plain": [
       "108.0"
      ]
     },
     "execution_count": 3,
     "metadata": {},
     "output_type": "execute_result"
    }
   ],
   "source": [
    "100 * 1.08"
   ]
  },
  {
   "cell_type": "code",
   "execution_count": 4,
   "id": "55c62da0",
   "metadata": {},
   "outputs": [
    {
     "data": {
      "text/plain": [
       "108.0"
      ]
     },
     "execution_count": 4,
     "metadata": {},
     "output_type": "execute_result"
    }
   ],
   "source": [
    "FV = PV * (1 + r)**n\n",
    "FV"
   ]
  },
  {
   "cell_type": "code",
   "execution_count": 5,
   "id": "960cdc8e",
   "metadata": {},
   "outputs": [
    {
     "data": {
      "text/plain": [
       "0.08000000000000007"
      ]
     },
     "execution_count": 5,
     "metadata": {},
     "output_type": "execute_result"
    }
   ],
   "source": [
    "effective_annual_rate = (FV / PV)**(1/n) - 1\n",
    "effective_annual_rate"
   ]
  },
  {
   "cell_type": "markdown",
   "id": "a9f8a683",
   "metadata": {},
   "source": [
    "Quarterly Compounding --> Interests accrue once a quarter at the end of the quarter\n",
    "\n",
    "Your saving bank offers an interest rate of 8% p.a (stated rate) with quarterly compounding on your savings (USD 100).\n",
    "Calculate the value of your savings account after one year and the corresponding effective annual interest rate.\n",
    "\n",
    "> Interests are calculated and added to your savings account at the end of each quarter."
   ]
  },
  {
   "cell_type": "code",
   "execution_count": 6,
   "id": "3d04c994",
   "metadata": {},
   "outputs": [],
   "source": [
    "PV = 100\n",
    "r = 0.08\n",
    "n = 1\n",
    "m = 4"
   ]
  },
  {
   "cell_type": "code",
   "execution_count": 7,
   "id": "039f4e68",
   "metadata": {},
   "outputs": [
    {
     "data": {
      "text/plain": [
       "108.243216"
      ]
     },
     "execution_count": 7,
     "metadata": {},
     "output_type": "execute_result"
    }
   ],
   "source": [
    "100*1.02*1.02*1.02*1.02"
   ]
  },
  {
   "cell_type": "code",
   "execution_count": 10,
   "id": "34eb0198",
   "metadata": {},
   "outputs": [
    {
     "data": {
      "text/plain": [
       "108.243216"
      ]
     },
     "execution_count": 10,
     "metadata": {},
     "output_type": "execute_result"
    }
   ],
   "source": [
    "FV = PV * (1 +r/m)**(n*m)\n",
    "FV"
   ]
  },
  {
   "cell_type": "code",
   "execution_count": 11,
   "id": "da690314",
   "metadata": {},
   "outputs": [
    {
     "data": {
      "text/plain": [
       "0.08243215999999998"
      ]
     },
     "execution_count": 11,
     "metadata": {},
     "output_type": "execute_result"
    }
   ],
   "source": [
    "effective_annual_rate = (FV / PV)**(1/n) - 1\n",
    "effective_annual_rate"
   ]
  },
  {
   "cell_type": "markdown",
   "id": "f6ba0bec",
   "metadata": {},
   "source": [
    "Quarterly compounding is favourable (everything else equal) as we earn compound interest(interest on interest)"
   ]
  },
  {
   "cell_type": "markdown",
   "id": "43a1f140",
   "metadata": {},
   "source": [
    "##### `Monthly Compounding ` Interests accrue once a month at the end of the month\n",
    "Your saving bank offers an interest rate of 8% p.a (stated rate) with monthly compounding on your savings (USD 100).\n",
    "Calculate the value of your savings account after one year and the corresponding effective annual interest rare."
   ]
  },
  {
   "cell_type": "code",
   "execution_count": 12,
   "id": "844e0ae2",
   "metadata": {},
   "outputs": [],
   "source": [
    "PV = 100\n",
    "r = 0.08\n",
    "n = 1\n",
    "m = 12"
   ]
  },
  {
   "cell_type": "code",
   "execution_count": 14,
   "id": "bb60edbc",
   "metadata": {},
   "outputs": [
    {
     "data": {
      "text/plain": [
       "108.29995068075098"
      ]
     },
     "execution_count": 14,
     "metadata": {},
     "output_type": "execute_result"
    }
   ],
   "source": [
    "FV = PV * (1 + r/m)**(n*m)\n",
    "FV"
   ]
  },
  {
   "cell_type": "code",
   "execution_count": 16,
   "id": "bbfa887b",
   "metadata": {},
   "outputs": [
    {
     "data": {
      "text/plain": [
       "0.08299950680750978"
      ]
     },
     "execution_count": 16,
     "metadata": {},
     "output_type": "execute_result"
    }
   ],
   "source": [
    "effective_annual_rate = ((FV / PV)** (1/n) -1)\n",
    "effective_annual_rate"
   ]
  },
  {
   "cell_type": "markdown",
   "id": "a26dfa92",
   "metadata": {},
   "source": [
    "### Continuous Compounding"
   ]
  },
  {
   "cell_type": "code",
   "execution_count": 17,
   "id": "2c564a98",
   "metadata": {},
   "outputs": [],
   "source": [
    "import numpy as np"
   ]
  },
  {
   "cell_type": "markdown",
   "id": "f9ea0d5d",
   "metadata": {},
   "source": [
    "Your saving bank offers an interest rate of 8% p.a (stated rate) with continuous compounding on your savings (USD 100).\n",
    "\n",
    "Calculate the value of your savings account after one year and the corresponding effective annual interest rate..\n",
    "\n",
    "> Interest are calculated and added to your saving account continuously (infinitely large number of compounding events).\n",
    "\n",
    "> Continuous exponential growth that can be observed in nature.\n"
   ]
  },
  {
   "cell_type": "code",
   "execution_count": 18,
   "id": "a6a5ce80",
   "metadata": {},
   "outputs": [],
   "source": [
    "PV = 100\n",
    "r =0.08\n",
    "n = 1\n",
    "m = 100000 # approx. infinity"
   ]
  },
  {
   "cell_type": "code",
   "execution_count": 19,
   "id": "d1dafa92",
   "metadata": {},
   "outputs": [
    {
     "data": {
      "text/plain": [
       "108.32870330122834"
      ]
     },
     "execution_count": 19,
     "metadata": {},
     "output_type": "execute_result"
    }
   ],
   "source": [
    "FV = PV * (1 +r/m)**(n*m) # approx. with large m\n",
    "FV"
   ]
  },
  {
   "cell_type": "code",
   "execution_count": 20,
   "id": "e36dea7f",
   "metadata": {},
   "outputs": [
    {
     "data": {
      "text/plain": [
       "108.32870676749586"
      ]
     },
     "execution_count": 20,
     "metadata": {},
     "output_type": "execute_result"
    }
   ],
   "source": [
    "FV = PV * np.exp(n*r) # exact math with e (euler number)\n",
    "FV"
   ]
  },
  {
   "cell_type": "code",
   "execution_count": 21,
   "id": "f10a41c6",
   "metadata": {},
   "outputs": [
    {
     "data": {
      "text/plain": [
       "2.718281828459045"
      ]
     },
     "execution_count": 21,
     "metadata": {},
     "output_type": "execute_result"
    }
   ],
   "source": [
    "euler = np.exp(1)\n",
    "euler"
   ]
  },
  {
   "cell_type": "code",
   "execution_count": 22,
   "id": "d034c7e6",
   "metadata": {},
   "outputs": [
    {
     "data": {
      "text/plain": [
       "108.32870676749586"
      ]
     },
     "execution_count": 22,
     "metadata": {},
     "output_type": "execute_result"
    }
   ],
   "source": [
    "PV*euler**(n*r)"
   ]
  },
  {
   "cell_type": "code",
   "execution_count": 23,
   "id": "80002db4",
   "metadata": {},
   "outputs": [
    {
     "data": {
      "text/plain": [
       "0.08328706767495864"
      ]
     },
     "execution_count": 23,
     "metadata": {},
     "output_type": "execute_result"
    }
   ],
   "source": [
    "effective_annual_rate = ((FV / PV)**(1/n) - 1) #ALt 1\n",
    "effective_annual_rate"
   ]
  },
  {
   "cell_type": "code",
   "execution_count": 24,
   "id": "0691d7d1",
   "metadata": {},
   "outputs": [
    {
     "data": {
      "text/plain": [
       "0.08328706767495864"
      ]
     },
     "execution_count": 24,
     "metadata": {},
     "output_type": "execute_result"
    }
   ],
   "source": [
    "effective_annual_rate = np.exp(r) - 1 # Alt 2\n",
    "effective_annual_rate"
   ]
  },
  {
   "cell_type": "markdown",
   "id": "cd0d72f9",
   "metadata": {},
   "source": [
    "Let's assume we only observe PV and FV, how to calculate the sayted rate/ continuously compounding rate of 8%?"
   ]
  },
  {
   "cell_type": "code",
   "execution_count": 25,
   "id": "896fa93f",
   "metadata": {},
   "outputs": [
    {
     "data": {
      "text/plain": [
       "0.08000000000000007"
      ]
     },
     "execution_count": 25,
     "metadata": {},
     "output_type": "execute_result"
    }
   ],
   "source": [
    "r = np.log(FV/PV) # inverse calculation --> use log (Alt 1)\n",
    "r\n"
   ]
  },
  {
   "cell_type": "code",
   "execution_count": 27,
   "id": "83a98392",
   "metadata": {},
   "outputs": [
    {
     "data": {
      "text/plain": [
       "0.08000000000000007"
      ]
     },
     "execution_count": 27,
     "metadata": {},
     "output_type": "execute_result"
    }
   ],
   "source": [
    "r = np.log(effective_annual_rate + 1) # inverse calculation -> use log (alt 2)\n",
    "r"
   ]
  },
  {
   "cell_type": "code",
   "execution_count": 28,
   "id": "afab9c79",
   "metadata": {},
   "outputs": [
    {
     "data": {
      "text/plain": [
       "0.08000000000000007"
      ]
     },
     "execution_count": 28,
     "metadata": {},
     "output_type": "execute_result"
    }
   ],
   "source": [
    "r = np.log(effective_annual_rate + 1) # inverse calculation --> use log (alt 2)\n",
    "r"
   ]
  },
  {
   "cell_type": "markdown",
   "id": "9042a57f",
   "metadata": {},
   "source": [
    "Take Home: Price of trading financial instruments change (approx.) continuously.\n",
    "> Intuitively, it makes a lot of sense to work with log returns."
   ]
  },
  {
   "cell_type": "code",
   "execution_count": null,
   "id": "03a46918",
   "metadata": {},
   "outputs": [],
   "source": []
  }
 ],
 "metadata": {
  "kernelspec": {
   "display_name": "Python 3 (ipykernel)",
   "language": "python",
   "name": "python3"
  },
  "language_info": {
   "codemirror_mode": {
    "name": "ipython",
    "version": 3
   },
   "file_extension": ".py",
   "mimetype": "text/x-python",
   "name": "python",
   "nbconvert_exporter": "python",
   "pygments_lexer": "ipython3",
   "version": "3.11.5"
  }
 },
 "nbformat": 4,
 "nbformat_minor": 5
}
