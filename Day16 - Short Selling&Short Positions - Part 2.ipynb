{
 "cells": [
  {
   "cell_type": "code",
   "execution_count": 1,
   "id": "72770a6b",
   "metadata": {},
   "outputs": [],
   "source": [
    "# EUR/USD(\"Long Euro\" == \"Short USD\")"
   ]
  },
  {
   "cell_type": "code",
   "execution_count": 2,
   "id": "c7871993",
   "metadata": {},
   "outputs": [],
   "source": [
    "t0 = 1.10\n",
    "t1 = 1.25"
   ]
  },
  {
   "cell_type": "markdown",
   "id": "619f3648",
   "metadata": {},
   "source": [
    "Today an Investor buys EUR 1 and pays USD 1.10. One day later he sells EUR1 for USD 1.25\n",
    "\n",
    "-> Profit: USD 0.15\n",
    "\n",
    "-> Long position euro(benefit from rising EUR prices):\n"
   ]
  },
  {
   "cell_type": "code",
   "execution_count": 3,
   "id": "9b9b3c41",
   "metadata": {},
   "outputs": [
    {
     "data": {
      "text/plain": [
       "0.13636363636363624"
      ]
     },
     "execution_count": 3,
     "metadata": {},
     "output_type": "execute_result"
    }
   ],
   "source": [
    "t1 / t0 - 1 # The EUR appreciates by 13.64% relative to USD (simple return)"
   ]
  },
  {
   "cell_type": "code",
   "execution_count": 4,
   "id": "58f83896",
   "metadata": {},
   "outputs": [],
   "source": [
    "#  EUR Long Position returns +13.64% (simple return)\n",
    "\n",
    "# What return would you expect for the corresponding EUR Short position? That's a \"no brainer\": -13.64%, right?"
   ]
  },
  {
   "cell_type": "code",
   "execution_count": null,
   "id": "75e0caed",
   "metadata": {},
   "outputs": [],
   "source": []
  },
  {
   "cell_type": "markdown",
   "id": "1863d599",
   "metadata": {},
   "source": [
    "### Surprisingly, that's incorrect!!!\n",
    "\n",
    "Inverse rate: USD/EUR (\"Short Euro\" == \"Long USD\")"
   ]
  },
  {
   "cell_type": "code",
   "execution_count": 5,
   "id": "77f5a600",
   "metadata": {},
   "outputs": [],
   "source": [
    "t0 = 1/ 1.10\n",
    "t1 = 1/ 1.25"
   ]
  },
  {
   "cell_type": "code",
   "execution_count": 6,
   "id": "9a62fd42",
   "metadata": {},
   "outputs": [
    {
     "name": "stdout",
     "output_type": "stream",
     "text": [
      "0.9090909090909091 0.8\n"
     ]
    }
   ],
   "source": [
    "print(t0, t1)"
   ]
  },
  {
   "cell_type": "code",
   "execution_count": 9,
   "id": "6e72221d",
   "metadata": {},
   "outputs": [],
   "source": [
    "# Today an investor buys USD 1 and pays 0.9091 Euro. One day later he sells USD 1 for EUR 0.8\n",
    "\n",
    "# -> Loss: EUR 0.1091"
   ]
  },
  {
   "cell_type": "code",
   "execution_count": 10,
   "id": "29a62373",
   "metadata": {},
   "outputs": [
    {
     "data": {
      "text/plain": [
       "-0.11999999999999988"
      ]
     },
     "execution_count": 10,
     "metadata": {},
     "output_type": "execute_result"
    }
   ],
   "source": [
    "t1 / t0 -1 # The USD depreciates by 12.0% relative to Eur"
   ]
  },
  {
   "cell_type": "code",
   "execution_count": 11,
   "id": "c5a581fa",
   "metadata": {},
   "outputs": [],
   "source": [
    "# --> EUR Short position returns -12.0% (simple return)\n",
    "\n",
    "# Take Home: When using simple returns, long position return != short position return*(-1)\n",
    "\n",
    "# -> Use log returns!"
   ]
  },
  {
   "cell_type": "code",
   "execution_count": null,
   "id": "9c5b1e7d",
   "metadata": {},
   "outputs": [],
   "source": []
  }
 ],
 "metadata": {
  "kernelspec": {
   "display_name": "Python 3 (ipykernel)",
   "language": "python",
   "name": "python3"
  },
  "language_info": {
   "codemirror_mode": {
    "name": "ipython",
    "version": 3
   },
   "file_extension": ".py",
   "mimetype": "text/x-python",
   "name": "python",
   "nbconvert_exporter": "python",
   "pygments_lexer": "ipython3",
   "version": "3.11.5"
  }
 },
 "nbformat": 4,
 "nbformat_minor": 5
}
