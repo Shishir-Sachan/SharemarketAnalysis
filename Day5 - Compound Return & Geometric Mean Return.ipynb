{
 "cells": [
  {
   "cell_type": "code",
   "execution_count": 1,
   "id": "0a25bbe2",
   "metadata": {},
   "outputs": [],
   "source": [
    "import pandas as pd\n",
    "import numpy as np\n",
    "import matplotlib.pyplot as plt\n",
    "pd.options.display.float_format = '{:.4f}'.format\n",
    "plt.style.use(\"seaborn-v0_8\")"
   ]
  },
  {
   "cell_type": "code",
   "execution_count": 2,
   "id": "d0a0abe8",
   "metadata": {},
   "outputs": [
    {
     "data": {
      "text/html": [
       "<div>\n",
       "<style scoped>\n",
       "    .dataframe tbody tr th:only-of-type {\n",
       "        vertical-align: middle;\n",
       "    }\n",
       "\n",
       "    .dataframe tbody tr th {\n",
       "        vertical-align: top;\n",
       "    }\n",
       "\n",
       "    .dataframe thead th {\n",
       "        text-align: right;\n",
       "    }\n",
       "</style>\n",
       "<table border=\"1\" class=\"dataframe\">\n",
       "  <thead>\n",
       "    <tr style=\"text-align: right;\">\n",
       "      <th></th>\n",
       "      <th>Price</th>\n",
       "      <th>Returns</th>\n",
       "    </tr>\n",
       "    <tr>\n",
       "      <th>Date</th>\n",
       "      <th></th>\n",
       "      <th></th>\n",
       "    </tr>\n",
       "  </thead>\n",
       "  <tbody>\n",
       "    <tr>\n",
       "      <th>2014-01-01</th>\n",
       "      <td>202.0000</td>\n",
       "      <td>NaN</td>\n",
       "    </tr>\n",
       "    <tr>\n",
       "      <th>2014-01-02</th>\n",
       "      <td>199.8500</td>\n",
       "      <td>-0.0106</td>\n",
       "    </tr>\n",
       "    <tr>\n",
       "      <th>2014-01-03</th>\n",
       "      <td>199.1500</td>\n",
       "      <td>-0.0035</td>\n",
       "    </tr>\n",
       "    <tr>\n",
       "      <th>2014-01-06</th>\n",
       "      <td>198.9500</td>\n",
       "      <td>-0.0010</td>\n",
       "    </tr>\n",
       "    <tr>\n",
       "      <th>2014-01-07</th>\n",
       "      <td>194.5000</td>\n",
       "      <td>-0.0224</td>\n",
       "    </tr>\n",
       "    <tr>\n",
       "      <th>...</th>\n",
       "      <td>...</td>\n",
       "      <td>...</td>\n",
       "    </tr>\n",
       "    <tr>\n",
       "      <th>2024-01-31</th>\n",
       "      <td>273.8500</td>\n",
       "      <td>0.0285</td>\n",
       "    </tr>\n",
       "    <tr>\n",
       "      <th>2024-02-01</th>\n",
       "      <td>268.5000</td>\n",
       "      <td>-0.0195</td>\n",
       "    </tr>\n",
       "    <tr>\n",
       "      <th>2024-02-02</th>\n",
       "      <td>272.5500</td>\n",
       "      <td>0.0151</td>\n",
       "    </tr>\n",
       "    <tr>\n",
       "      <th>2024-02-05</th>\n",
       "      <td>273.6000</td>\n",
       "      <td>0.0039</td>\n",
       "    </tr>\n",
       "    <tr>\n",
       "      <th>2024-02-06</th>\n",
       "      <td>283.0000</td>\n",
       "      <td>0.0344</td>\n",
       "    </tr>\n",
       "  </tbody>\n",
       "</table>\n",
       "<p>2491 rows × 2 columns</p>\n",
       "</div>"
      ],
      "text/plain": [
       "              Price  Returns\n",
       "Date                        \n",
       "2014-01-01 202.0000      NaN\n",
       "2014-01-02 199.8500  -0.0106\n",
       "2014-01-03 199.1500  -0.0035\n",
       "2014-01-06 198.9500  -0.0010\n",
       "2014-01-07 194.5000  -0.0224\n",
       "...             ...      ...\n",
       "2024-01-31 273.8500   0.0285\n",
       "2024-02-01 268.5000  -0.0195\n",
       "2024-02-02 272.5500   0.0151\n",
       "2024-02-05 273.6000   0.0039\n",
       "2024-02-06 283.0000   0.0344\n",
       "\n",
       "[2491 rows x 2 columns]"
      ]
     },
     "execution_count": 2,
     "metadata": {},
     "output_type": "execute_result"
    }
   ],
   "source": [
    "Ved = pd.read_csv(\"Ved.csv\", index_col = \"Date\", parse_dates = [\"Date\"])\n",
    "Ved"
   ]
  },
  {
   "cell_type": "code",
   "execution_count": 6,
   "id": "a49d5771",
   "metadata": {},
   "outputs": [
    {
     "data": {
      "text/plain": [
       "1.4009900990099813"
      ]
     },
     "execution_count": 6,
     "metadata": {},
     "output_type": "execute_result"
    }
   ],
   "source": [
    "multiple = (1 + Ved.Returns).prod() # alternative #3 to calculate multiple (compounding daily returns)\n",
    "multiple"
   ]
  },
  {
   "cell_type": "code",
   "execution_count": 7,
   "id": "6270f631",
   "metadata": {},
   "outputs": [
    {
     "data": {
      "text/plain": [
       "2490"
      ]
     },
     "execution_count": 7,
     "metadata": {},
     "output_type": "execute_result"
    }
   ],
   "source": [
    "n = Ved.Returns.count()\n",
    "n"
   ]
  },
  {
   "cell_type": "code",
   "execution_count": 8,
   "id": "6e244c3f",
   "metadata": {},
   "outputs": [
    {
     "data": {
      "text/plain": [
       "0.00013542250222986496"
      ]
     },
     "execution_count": 8,
     "metadata": {},
     "output_type": "execute_result"
    }
   ],
   "source": [
    "geo_mean = multiple **(1/n) - 1 # Geometric mean return (daily)\n",
    "geo_mean"
   ]
  },
  {
   "cell_type": "code",
   "execution_count": 9,
   "id": "aee36f56",
   "metadata": {},
   "outputs": [
    {
     "data": {
      "text/plain": [
       "1.4009900990100397"
      ]
     },
     "execution_count": 9,
     "metadata": {},
     "output_type": "execute_result"
    }
   ],
   "source": [
    "(1 + geo_mean)**n #alternative #4 to calculate multiple (geometric mean)"
   ]
  },
  {
   "cell_type": "code",
   "execution_count": 10,
   "id": "2e5a2a83",
   "metadata": {},
   "outputs": [],
   "source": [
    "# >> Compound returns, CAGR & geometric mean return are closly related concepts."
   ]
  },
  {
   "cell_type": "code",
   "execution_count": 11,
   "id": "5daab192",
   "metadata": {},
   "outputs": [
    {
     "data": {
      "text/plain": [
       "0.0005325235329965898"
      ]
     },
     "execution_count": 11,
     "metadata": {},
     "output_type": "execute_result"
    }
   ],
   "source": [
    "mu = Ved.Returns.mean() # arithmetic mean return\n",
    "mu"
   ]
  },
  {
   "cell_type": "code",
   "execution_count": 12,
   "id": "fc499cca",
   "metadata": {},
   "outputs": [],
   "source": [
    "# The airthmetic mean return is always greater than the geometric mean return .......and less useful."
   ]
  },
  {
   "cell_type": "code",
   "execution_count": 13,
   "id": "955ff70f",
   "metadata": {},
   "outputs": [
    {
     "data": {
      "text/plain": [
       "3.76455877713943"
      ]
     },
     "execution_count": 13,
     "metadata": {},
     "output_type": "execute_result"
    }
   ],
   "source": [
    "(1 + mu)**n # calculate multiple? not possible with arithmetic mean!"
   ]
  },
  {
   "cell_type": "code",
   "execution_count": null,
   "id": "41128a5b",
   "metadata": {},
   "outputs": [],
   "source": []
  }
 ],
 "metadata": {
  "kernelspec": {
   "display_name": "Python 3 (ipykernel)",
   "language": "python",
   "name": "python3"
  },
  "language_info": {
   "codemirror_mode": {
    "name": "ipython",
    "version": 3
   },
   "file_extension": ".py",
   "mimetype": "text/x-python",
   "name": "python",
   "nbconvert_exporter": "python",
   "pygments_lexer": "ipython3",
   "version": "3.11.5"
  }
 },
 "nbformat": 4,
 "nbformat_minor": 5
}
