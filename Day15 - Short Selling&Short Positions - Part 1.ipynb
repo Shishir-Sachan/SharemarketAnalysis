{
 "cells": [
  {
   "cell_type": "markdown",
   "id": "5e682dce",
   "metadata": {},
   "source": [
    "# Short Selling / Short Positions (Part 1)\n",
    "\n",
    "What's the rational behind short selling an instrument? \n",
    "--\n",
    "    . Making profits/positive returns when prices fall.\n",
    "\n",
    "Stocks Examples:\n",
    "\n",
    "Today an investor buys the ABC Stock for USD 100. One day later he sells the stock for USD 110.\n",
    "\n",
    "-> Profit: USD 10\n",
    "\n",
    "-> Long Position (benefit from rising prices):\n",
    "\n",
    "Today an Investor borrows the ABC Stock from another investor and sells it for USD 100. One day later he buys the stock for USD 90 and returns it to the lender.\n",
    "\n",
    "-> Profit: USD 10\n",
    "\n",
    "-> Short Position (benefit from falling prices):\n",
    "\n",
    "In some countries (and for some instruments like stocks) short selling is prohibited.\n",
    "Most intuitive/popular use case for short selling: Currencies(Forex)"
   ]
  },
  {
   "cell_type": "code",
   "execution_count": null,
   "id": "0fb1c6dc",
   "metadata": {},
   "outputs": [],
   "source": []
  }
 ],
 "metadata": {
  "kernelspec": {
   "display_name": "Python 3 (ipykernel)",
   "language": "python",
   "name": "python3"
  },
  "language_info": {
   "codemirror_mode": {
    "name": "ipython",
    "version": 3
   },
   "file_extension": ".py",
   "mimetype": "text/x-python",
   "name": "python",
   "nbconvert_exporter": "python",
   "pygments_lexer": "ipython3",
   "version": "3.11.5"
  }
 },
 "nbformat": 4,
 "nbformat_minor": 5
}
