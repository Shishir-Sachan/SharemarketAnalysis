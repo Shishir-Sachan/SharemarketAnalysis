{
 "cells": [
  {
   "cell_type": "code",
   "execution_count": 1,
   "id": "090e3dde",
   "metadata": {},
   "outputs": [],
   "source": [
    "import pandas as pd\n",
    "import numpy as np\n",
    "pd.options.display.float_format = '{:.4f}'.format\n",
    "import matplotlib.pyplot as plt\n",
    "plt.style.use(\"seaborn-v0_8\")"
   ]
  },
  {
   "cell_type": "code",
   "execution_count": 2,
   "id": "7936cc5e",
   "metadata": {},
   "outputs": [
    {
     "data": {
      "text/html": [
       "<div>\n",
       "<style scoped>\n",
       "    .dataframe tbody tr th:only-of-type {\n",
       "        vertical-align: middle;\n",
       "    }\n",
       "\n",
       "    .dataframe tbody tr th {\n",
       "        vertical-align: top;\n",
       "    }\n",
       "\n",
       "    .dataframe thead th {\n",
       "        text-align: right;\n",
       "    }\n",
       "</style>\n",
       "<table border=\"1\" class=\"dataframe\">\n",
       "  <thead>\n",
       "    <tr style=\"text-align: right;\">\n",
       "      <th></th>\n",
       "      <th>Price</th>\n",
       "      <th>Returns</th>\n",
       "    </tr>\n",
       "    <tr>\n",
       "      <th>Date</th>\n",
       "      <th></th>\n",
       "      <th></th>\n",
       "    </tr>\n",
       "  </thead>\n",
       "  <tbody>\n",
       "    <tr>\n",
       "      <th>2014-01-01</th>\n",
       "      <td>202.0000</td>\n",
       "      <td>NaN</td>\n",
       "    </tr>\n",
       "    <tr>\n",
       "      <th>2014-01-02</th>\n",
       "      <td>199.8500</td>\n",
       "      <td>-0.0106</td>\n",
       "    </tr>\n",
       "    <tr>\n",
       "      <th>2014-01-03</th>\n",
       "      <td>199.1500</td>\n",
       "      <td>-0.0035</td>\n",
       "    </tr>\n",
       "    <tr>\n",
       "      <th>2014-01-06</th>\n",
       "      <td>198.9500</td>\n",
       "      <td>-0.0010</td>\n",
       "    </tr>\n",
       "    <tr>\n",
       "      <th>2014-01-07</th>\n",
       "      <td>194.5000</td>\n",
       "      <td>-0.0224</td>\n",
       "    </tr>\n",
       "    <tr>\n",
       "      <th>...</th>\n",
       "      <td>...</td>\n",
       "      <td>...</td>\n",
       "    </tr>\n",
       "    <tr>\n",
       "      <th>2024-01-31</th>\n",
       "      <td>273.8500</td>\n",
       "      <td>0.0285</td>\n",
       "    </tr>\n",
       "    <tr>\n",
       "      <th>2024-02-01</th>\n",
       "      <td>268.5000</td>\n",
       "      <td>-0.0195</td>\n",
       "    </tr>\n",
       "    <tr>\n",
       "      <th>2024-02-02</th>\n",
       "      <td>272.5500</td>\n",
       "      <td>0.0151</td>\n",
       "    </tr>\n",
       "    <tr>\n",
       "      <th>2024-02-05</th>\n",
       "      <td>273.6000</td>\n",
       "      <td>0.0039</td>\n",
       "    </tr>\n",
       "    <tr>\n",
       "      <th>2024-02-06</th>\n",
       "      <td>283.0000</td>\n",
       "      <td>0.0344</td>\n",
       "    </tr>\n",
       "  </tbody>\n",
       "</table>\n",
       "<p>2491 rows × 2 columns</p>\n",
       "</div>"
      ],
      "text/plain": [
       "              Price  Returns\n",
       "Date                        \n",
       "2014-01-01 202.0000      NaN\n",
       "2014-01-02 199.8500  -0.0106\n",
       "2014-01-03 199.1500  -0.0035\n",
       "2014-01-06 198.9500  -0.0010\n",
       "2014-01-07 194.5000  -0.0224\n",
       "...             ...      ...\n",
       "2024-01-31 273.8500   0.0285\n",
       "2024-02-01 268.5000  -0.0195\n",
       "2024-02-02 272.5500   0.0151\n",
       "2024-02-05 273.6000   0.0039\n",
       "2024-02-06 283.0000   0.0344\n",
       "\n",
       "[2491 rows x 2 columns]"
      ]
     },
     "execution_count": 2,
     "metadata": {},
     "output_type": "execute_result"
    }
   ],
   "source": [
    "Ved = pd.read_csv(\"Ved.csv\", index_col=\"Date\", parse_dates=[\"Date\"])\n",
    "Ved"
   ]
  },
  {
   "cell_type": "code",
   "execution_count": 3,
   "id": "0564c8a4",
   "metadata": {},
   "outputs": [
    {
     "data": {
      "text/html": [
       "<div>\n",
       "<style scoped>\n",
       "    .dataframe tbody tr th:only-of-type {\n",
       "        vertical-align: middle;\n",
       "    }\n",
       "\n",
       "    .dataframe tbody tr th {\n",
       "        vertical-align: top;\n",
       "    }\n",
       "\n",
       "    .dataframe thead th {\n",
       "        text-align: right;\n",
       "    }\n",
       "</style>\n",
       "<table border=\"1\" class=\"dataframe\">\n",
       "  <thead>\n",
       "    <tr style=\"text-align: right;\">\n",
       "      <th></th>\n",
       "      <th>Price</th>\n",
       "      <th>Returns</th>\n",
       "      <th>log_ret</th>\n",
       "    </tr>\n",
       "    <tr>\n",
       "      <th>Date</th>\n",
       "      <th></th>\n",
       "      <th></th>\n",
       "      <th></th>\n",
       "    </tr>\n",
       "  </thead>\n",
       "  <tbody>\n",
       "    <tr>\n",
       "      <th>2014-01-01</th>\n",
       "      <td>202.0000</td>\n",
       "      <td>NaN</td>\n",
       "      <td>NaN</td>\n",
       "    </tr>\n",
       "    <tr>\n",
       "      <th>2014-01-02</th>\n",
       "      <td>199.8500</td>\n",
       "      <td>-0.0106</td>\n",
       "      <td>-0.0107</td>\n",
       "    </tr>\n",
       "    <tr>\n",
       "      <th>2014-01-03</th>\n",
       "      <td>199.1500</td>\n",
       "      <td>-0.0035</td>\n",
       "      <td>-0.0035</td>\n",
       "    </tr>\n",
       "    <tr>\n",
       "      <th>2014-01-06</th>\n",
       "      <td>198.9500</td>\n",
       "      <td>-0.0010</td>\n",
       "      <td>-0.0010</td>\n",
       "    </tr>\n",
       "    <tr>\n",
       "      <th>2014-01-07</th>\n",
       "      <td>194.5000</td>\n",
       "      <td>-0.0224</td>\n",
       "      <td>-0.0226</td>\n",
       "    </tr>\n",
       "    <tr>\n",
       "      <th>...</th>\n",
       "      <td>...</td>\n",
       "      <td>...</td>\n",
       "      <td>...</td>\n",
       "    </tr>\n",
       "    <tr>\n",
       "      <th>2024-01-31</th>\n",
       "      <td>273.8500</td>\n",
       "      <td>0.0285</td>\n",
       "      <td>0.0281</td>\n",
       "    </tr>\n",
       "    <tr>\n",
       "      <th>2024-02-01</th>\n",
       "      <td>268.5000</td>\n",
       "      <td>-0.0195</td>\n",
       "      <td>-0.0197</td>\n",
       "    </tr>\n",
       "    <tr>\n",
       "      <th>2024-02-02</th>\n",
       "      <td>272.5500</td>\n",
       "      <td>0.0151</td>\n",
       "      <td>0.0150</td>\n",
       "    </tr>\n",
       "    <tr>\n",
       "      <th>2024-02-05</th>\n",
       "      <td>273.6000</td>\n",
       "      <td>0.0039</td>\n",
       "      <td>0.0038</td>\n",
       "    </tr>\n",
       "    <tr>\n",
       "      <th>2024-02-06</th>\n",
       "      <td>283.0000</td>\n",
       "      <td>0.0344</td>\n",
       "      <td>0.0338</td>\n",
       "    </tr>\n",
       "  </tbody>\n",
       "</table>\n",
       "<p>2491 rows × 3 columns</p>\n",
       "</div>"
      ],
      "text/plain": [
       "              Price  Returns  log_ret\n",
       "Date                                 \n",
       "2014-01-01 202.0000      NaN      NaN\n",
       "2014-01-02 199.8500  -0.0106  -0.0107\n",
       "2014-01-03 199.1500  -0.0035  -0.0035\n",
       "2014-01-06 198.9500  -0.0010  -0.0010\n",
       "2014-01-07 194.5000  -0.0224  -0.0226\n",
       "...             ...      ...      ...\n",
       "2024-01-31 273.8500   0.0285   0.0281\n",
       "2024-02-01 268.5000  -0.0195  -0.0197\n",
       "2024-02-02 272.5500   0.0151   0.0150\n",
       "2024-02-05 273.6000   0.0039   0.0038\n",
       "2024-02-06 283.0000   0.0344   0.0338\n",
       "\n",
       "[2491 rows x 3 columns]"
      ]
     },
     "execution_count": 3,
     "metadata": {},
     "output_type": "execute_result"
    }
   ],
   "source": [
    "Ved[\"log_ret\"] = np.log(Ved.Price / Ved.Price.shift())\n",
    "Ved"
   ]
  },
  {
   "cell_type": "code",
   "execution_count": 4,
   "id": "b6a73c5e",
   "metadata": {},
   "outputs": [
    {
     "data": {
      "text/html": [
       "<div>\n",
       "<style scoped>\n",
       "    .dataframe tbody tr th:only-of-type {\n",
       "        vertical-align: middle;\n",
       "    }\n",
       "\n",
       "    .dataframe tbody tr th {\n",
       "        vertical-align: top;\n",
       "    }\n",
       "\n",
       "    .dataframe thead th {\n",
       "        text-align: right;\n",
       "    }\n",
       "</style>\n",
       "<table border=\"1\" class=\"dataframe\">\n",
       "  <thead>\n",
       "    <tr style=\"text-align: right;\">\n",
       "      <th></th>\n",
       "      <th>Price</th>\n",
       "      <th>Returns</th>\n",
       "      <th>log_ret</th>\n",
       "    </tr>\n",
       "  </thead>\n",
       "  <tbody>\n",
       "    <tr>\n",
       "      <th>count</th>\n",
       "      <td>2491.0000</td>\n",
       "      <td>2490.0000</td>\n",
       "      <td>2490.0000</td>\n",
       "    </tr>\n",
       "    <tr>\n",
       "      <th>mean</th>\n",
       "      <td>219.4668</td>\n",
       "      <td>0.0005</td>\n",
       "      <td>0.0001</td>\n",
       "    </tr>\n",
       "    <tr>\n",
       "      <th>std</th>\n",
       "      <td>78.6791</td>\n",
       "      <td>0.0281</td>\n",
       "      <td>0.0283</td>\n",
       "    </tr>\n",
       "    <tr>\n",
       "      <th>min</th>\n",
       "      <td>61.5500</td>\n",
       "      <td>-0.2043</td>\n",
       "      <td>-0.2286</td>\n",
       "    </tr>\n",
       "    <tr>\n",
       "      <th>25%</th>\n",
       "      <td>161.3250</td>\n",
       "      <td>-0.0135</td>\n",
       "      <td>-0.0136</td>\n",
       "    </tr>\n",
       "    <tr>\n",
       "      <th>50%</th>\n",
       "      <td>224.0500</td>\n",
       "      <td>0.0004</td>\n",
       "      <td>0.0004</td>\n",
       "    </tr>\n",
       "    <tr>\n",
       "      <th>75%</th>\n",
       "      <td>280.2500</td>\n",
       "      <td>0.0157</td>\n",
       "      <td>0.0156</td>\n",
       "    </tr>\n",
       "    <tr>\n",
       "      <th>max</th>\n",
       "      <td>437.7500</td>\n",
       "      <td>0.1858</td>\n",
       "      <td>0.1704</td>\n",
       "    </tr>\n",
       "  </tbody>\n",
       "</table>\n",
       "</div>"
      ],
      "text/plain": [
       "          Price   Returns   log_ret\n",
       "count 2491.0000 2490.0000 2490.0000\n",
       "mean   219.4668    0.0005    0.0001\n",
       "std     78.6791    0.0281    0.0283\n",
       "min     61.5500   -0.2043   -0.2286\n",
       "25%    161.3250   -0.0135   -0.0136\n",
       "50%    224.0500    0.0004    0.0004\n",
       "75%    280.2500    0.0157    0.0156\n",
       "max    437.7500    0.1858    0.1704"
      ]
     },
     "execution_count": 4,
     "metadata": {},
     "output_type": "execute_result"
    }
   ],
   "source": [
    "Ved.describe()"
   ]
  },
  {
   "cell_type": "code",
   "execution_count": 5,
   "id": "9bf9097b",
   "metadata": {},
   "outputs": [
    {
     "data": {
      "image/png": "[encoded data removed]",
      "text/plain": [
       "<Figure size 1500x800 with 1 Axes>"
      ]
     },
     "metadata": {},
     "output_type": "display_data"
    }
   ],
   "source": [
    "Ved.log_ret.plot(kind = \"hist\", figsize = (15,8), bins = 100, fontsize = 15, density = True) # Frequency distribution of log returns\n",
    "plt.xlabel(\"Daily Returns\", fontsize = 15)\n",
    "plt.ylabel(\"Frequency\", fontsize = 15)\n",
    "plt.title(\"Frequency Distribution of Returns\", fontsize = 20)\n",
    "plt.show()"
   ]
  },
  {
   "cell_type": "markdown",
   "id": "f209a6b7",
   "metadata": {},
   "source": [
    "### Do MSFT Returns follow a Normal Distribution?\n",
    "\n",
    "A normally distributed random variable can be fully described by its\n",
    "\n",
    "    . Mean\n",
    "    . Standard deviation\n",
    "    \n",
    "##### Higher central moments are zero:\n",
    "    . Skew = 0 (measures symmetrie around the mean)\n",
    "    . (Excess) Kurtosis = 0 (positive excess Kurtosis --> more observations in the \"tails\")"
   ]
  },
  {
   "cell_type": "code",
   "execution_count": 6,
   "id": "8a8db49e",
   "metadata": {},
   "outputs": [
    {
     "data": {
      "text/plain": [
       "0.0001354133334305339"
      ]
     },
     "execution_count": 6,
     "metadata": {},
     "output_type": "execute_result"
    }
   ],
   "source": [
    "mu = Ved.log_ret.mean()\n",
    "mu"
   ]
  },
  {
   "cell_type": "code",
   "execution_count": 7,
   "id": "c92c9d6e",
   "metadata": {},
   "outputs": [
    {
     "data": {
      "text/plain": [
       "0.028269158419403802"
      ]
     },
     "execution_count": 7,
     "metadata": {},
     "output_type": "execute_result"
    }
   ],
   "source": [
    "sigma = Ved.log_ret.std()\n",
    "sigma"
   ]
  },
  {
   "cell_type": "code",
   "execution_count": 8,
   "id": "58c99c0d",
   "metadata": {},
   "outputs": [],
   "source": [
    "import scipy.stats as stats"
   ]
  },
  {
   "cell_type": "code",
   "execution_count": 9,
   "id": "227bc06e",
   "metadata": {},
   "outputs": [
    {
     "data": {
      "text/plain": [
       "-0.693420679433228"
      ]
     },
     "execution_count": 9,
     "metadata": {},
     "output_type": "execute_result"
    }
   ],
   "source": [
    "stats.skew(Ved.log_ret.dropna()) # in a normal distribution: skew == 0"
   ]
  },
  {
   "cell_type": "code",
   "execution_count": 10,
   "id": "bc1c9091",
   "metadata": {},
   "outputs": [
    {
     "data": {
      "text/plain": [
       "6.354835652647848"
      ]
     },
     "execution_count": 10,
     "metadata": {},
     "output_type": "execute_result"
    }
   ],
   "source": [
    "stats.kurtosis(Ved.log_ret.dropna(), fisher= True) # In a Normal Distribution: (fisher) krutosis == 0"
   ]
  },
  {
   "cell_type": "markdown",
   "id": "fdfb2418",
   "metadata": {},
   "source": [
    "### MSFT Returns exhibit \"Fat tails\" (extreme positive / negetive outcomes). In our case Ved"
   ]
  },
  {
   "cell_type": "code",
   "execution_count": 11,
   "id": "b8d25cb7",
   "metadata": {},
   "outputs": [
    {
     "data": {
      "text/plain": [
       "array([-0.22859542, -0.22855551, -0.22851561, ...,  0.17031318,\n",
       "        0.17035308,  0.17039299])"
      ]
     },
     "execution_count": 11,
     "metadata": {},
     "output_type": "execute_result"
    }
   ],
   "source": [
    "x = np.linspace(Ved.log_ret.min(), Ved.log_ret.max(), 10000)\n",
    "x"
   ]
  },
  {
   "cell_type": "code",
   "execution_count": 13,
   "id": "6e24afbb",
   "metadata": {},
   "outputs": [
    {
     "data": {
      "text/plain": [
       "array([8.58181182e-14, 8.68037754e-14, 8.78005785e-14, ...,\n",
       "       1.90691659e-07, 1.89077972e-07, 1.87477567e-07])"
      ]
     },
     "execution_count": 13,
     "metadata": {},
     "output_type": "execute_result"
    }
   ],
   "source": [
    "y = stats.norm.pdf(x, loc = mu, scale = sigma) # creating y values for a normal distribution with mu, sigma\n",
    "y"
   ]
  },
  {
   "cell_type": "code",
   "execution_count": 19,
   "id": "296e3440",
   "metadata": {},
   "outputs": [
    {
     "data": {
      "image/png": "[encoded data removed]",
      "text/plain": [
       "<Figure size 2000x800 with 1 Axes>"
      ]
     },
     "metadata": {},
     "output_type": "display_data"
    }
   ],
   "source": [
    "plt.figure(figsize=(20,8))\n",
    "plt.hist(Ved.log_ret, bins=500, density=True, label=\"Frequency Distribution of daily returns(Ved)\")\n",
    "plt.plot(x ,y, linewidth = 3, color = \"red\", label = \"Normal Distribution\")\n",
    "plt.title(\"Normal Distribution\", fontsize = 25)\n",
    "plt.xlabel(\"Daily Returns\", fontsize = 15)\n",
    "plt.ylabel(\"pdf\", fontsize = 15)\n",
    "plt.legend(fontsize = 15)\n",
    "plt.show()"
   ]
  },
  {
   "cell_type": "code",
   "execution_count": 20,
   "id": "1f755cbc",
   "metadata": {},
   "outputs": [],
   "source": [
    "# Ved Returns exhibit \"fat Tails\" (extreme positive/ negative outcomes).\n",
    "#  Testing the normality of Ved returns based on the sample (jan 2014 to till date)\n",
    "#     Hypothesis Test with Ho Hypothiesis: Ved returns (full population) follow a normal distribution."
   ]
  },
  {
   "cell_type": "code",
   "execution_count": 21,
   "id": "add8bd3d",
   "metadata": {},
   "outputs": [],
   "source": [
    "z_stat, p_value = stats.normaltest(Ved.log_ret.dropna())"
   ]
  },
  {
   "cell_type": "code",
   "execution_count": 22,
   "id": "d10dbf75",
   "metadata": {},
   "outputs": [
    {
     "data": {
      "text/plain": [
       "499.97520546882487"
      ]
     },
     "execution_count": 22,
     "metadata": {},
     "output_type": "execute_result"
    }
   ],
   "source": [
    "z_stat # high values ---->> rejects H0"
   ]
  },
  {
   "cell_type": "code",
   "execution_count": 23,
   "id": "d877ea25",
   "metadata": {},
   "outputs": [
    {
     "data": {
      "text/plain": [
       "2.7024868426603146e-109"
      ]
     },
     "execution_count": 23,
     "metadata": {},
     "output_type": "execute_result"
    }
   ],
   "source": [
    "p_value # low value (close to zero)  --------->>> rejects H0"
   ]
  },
  {
   "cell_type": "code",
   "execution_count": 24,
   "id": "211349c0",
   "metadata": {},
   "outputs": [
    {
     "data": {
      "text/plain": [
       "0.0"
      ]
     },
     "execution_count": 24,
     "metadata": {},
     "output_type": "execute_result"
    }
   ],
   "source": [
    "round(p_value, 10)"
   ]
  },
  {
   "cell_type": "markdown",
   "id": "e0639494",
   "metadata": {},
   "source": [
    "# Assuming that Ved returns (generally) follow a Normal Distribution, there is 0% probability that we get that extreme outcomes in a sample. "
   ]
  },
  {
   "cell_type": "markdown",
   "id": "45a0e50c",
   "metadata": {},
   "source": [
    "## Take home: Ved returns don't follows a Normal distribution as they exhibit \"Fat tails\". Extreme Events/Outcomes are not reflected in the mean-variance analysis. The Standard Deviation of returns underestimates true Risk."
   ]
  },
  {
   "cell_type": "code",
   "execution_count": null,
   "id": "5d802412",
   "metadata": {},
   "outputs": [],
   "source": []
  }
 ],
 "metadata": {
  "kernelspec": {
   "display_name": "Python 3 (ipykernel)",
   "language": "python",
   "name": "python3"
  },
  "language_info": {
   "codemirror_mode": {
    "name": "ipython",
    "version": 3
   },
   "file_extension": ".py",
   "mimetype": "text/x-python",
   "name": "python",
   "nbconvert_exporter": "python",
   "pygments_lexer": "ipython3",
   "version": "3.11.5"
  }
 },
 "nbformat": 4,
 "nbformat_minor": 5
}
